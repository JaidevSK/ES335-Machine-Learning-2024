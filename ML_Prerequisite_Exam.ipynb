{
  "nbformat": 4,
  "nbformat_minor": 0,
  "metadata": {
    "colab": {
      "provenance": [],
      "authorship_tag": "ABX9TyPuoMN2obNpWJwtP82jTR/1"
    },
    "kernelspec": {
      "name": "python3",
      "display_name": "Python 3"
    },
    "language_info": {
      "name": "python"
    }
  },
  "cells": [
    {
      "cell_type": "markdown",
      "source": [
        "Name: Jaidev S K <br>\n",
        "Roll No. 22110103 <br>\n",
        "B.Tech CSE 2022"
      ],
      "metadata": {
        "id": "6nQYEkxTrouz"
      }
    },
    {
      "cell_type": "markdown",
      "source": [
        "Note: The references for each solution are given at their respective places."
      ],
      "metadata": {
        "id": "t5zbtrAautvl"
      }
    },
    {
      "cell_type": "markdown",
      "source": [
        "##Q1. How many multiplications and additions do you need to perform a matrix multiplication between a (n, k) and (k, m) matrix? Explain.\n",
        "\n"
      ],
      "metadata": {
        "id": "x7KOpaWY25Ed"
      }
    },
    {
      "cell_type": "markdown",
      "source": [
        "Answer:\n",
        "\n",
        "Let *A* be a matrix of size (n,k) and *B* be the matrix of size (k,m). If the product AB = C, then for every C<sub>ij</sub> as the j<sup>th</sup> element of the i<sup>th</sup> row, we can see that it is composed of the sum of all the k elements of the form A<sub>ip</sub>B<sub>pj</sub>, p ranging from 1 to k OR 0 to k-1(where the naming system is the same as used for C.) So, for every C<sub>ij</sub>, we have **k** multiplications and **k-1** additions as C<sub>ij</sub> is the sum of all those k products. But we have **n x m** such C<sub>ij</sub>'s. So, in total we will have **n x m x k** multiplications and **n x m x (k-1)** additions."
      ],
      "metadata": {
        "id": "_u1cEytHlnK5"
      }
    },
    {
      "cell_type": "markdown",
      "source": [
        "##Q2.Write Python code to multiply the above two matrices. Solve using list of lists and then use numpy. Compare the timing of both solutions. Which one is faster? Why?"
      ],
      "metadata": {
        "id": "EgPiorIa3Aph"
      }
    },
    {
      "cell_type": "code",
      "source": [
        "import time\n",
        "start_time = time.time()\n",
        "\n",
        "def matmul(m1, m2):\n",
        "    result = []\n",
        "    for i in range(len(m1)):\n",
        "        row = []\n",
        "        for j in range(len(m2[i])):\n",
        "            sum = 0\n",
        "            for k in range(len(m2)):\n",
        "                sum += m1[i][k] * m2[k][j]\n",
        "            row.append(sum)\n",
        "        result.append(row)\n",
        "    return result\n",
        "\n",
        "m1 = [[1, 2], [3, 4]]\n",
        "m2 = [[5, 6, 7], [8, 9, 10]]\n",
        "result = matmul(m1, m2)\n",
        "print(result)\n",
        "\n",
        "\n",
        "print(\"The implementaion using List of Lists took \", (time.time() - start_time), \"seconds\")"
      ],
      "metadata": {
        "id": "s8i2JvaA3JTY",
        "colab": {
          "base_uri": "https://localhost:8080/"
        },
        "outputId": "9b0028b7-7c61-4242-e74f-5f749bfd107d"
      },
      "execution_count": 86,
      "outputs": [
        {
          "output_type": "stream",
          "name": "stdout",
          "text": [
            "[[21, 24, 27], [47, 54, 61]]\n",
            "The implementaion using List of Lists took  0.00223541259765625 seconds\n"
          ]
        }
      ]
    },
    {
      "cell_type": "code",
      "source": [
        "import numpy as np\n",
        "import time\n",
        "start_time = time.time()\n",
        "\n",
        "result = np.matmul(m1, m2)\n",
        "print(result)\n",
        "\n",
        "print(\"The implementaion using Numpy took\", (time.time() - start_time), \"seconds\")"
      ],
      "metadata": {
        "id": "eGMBgTNjl7dN",
        "colab": {
          "base_uri": "https://localhost:8080/"
        },
        "outputId": "6a31ab1e-ed2c-44ae-bef6-c4b48f598590"
      },
      "execution_count": 87,
      "outputs": [
        {
          "output_type": "stream",
          "name": "stdout",
          "text": [
            "[[21 24 27]\n",
            " [47 54 61]]\n",
            "The implementaion using Numpy took 0.0008485317230224609 seconds\n"
          ]
        }
      ]
    },
    {
      "cell_type": "markdown",
      "source": [
        "The reason Numpy took much less time may be because of the use of much more efficient data storge and more efficient implementation of the Matrix multiplication algo. It may also be because numpy is implemented in C++ which is much faster than python."
      ],
      "metadata": {
        "id": "sYqIS_SxWudY"
      }
    },
    {
      "cell_type": "markdown",
      "source": [
        "##Q3.Finding the highest element in a list requires one pass of the array. Finding the second highest element requires 2 passes of the the array. Using this method, what is the time complexity of finding the median of the array? Can you suggest a better method? Can you implement both these methods in Python and compare against numpy.median routine in terms of time?"
      ],
      "metadata": {
        "id": "MMj1EZAo3J0s"
      }
    },
    {
      "cell_type": "markdown",
      "source": [
        "Since for finding the highest element, we will have to traverse the whole array, in this case since we are finding the median value, we are traversing N/2 times if there are N elements in the array. So, the time complexity is O(N<sup>2</sup>).<br>However, we can just sort the array and find the (N//2)<sup>th</sup> element in the array. Its is O(N logN) method."
      ],
      "metadata": {
        "id": "GIEwSFYsXXl9"
      }
    },
    {
      "cell_type": "code",
      "source": [
        "import time\n",
        "start_time = time.time()\n",
        "\n",
        "def indexofmax(arr):\n",
        "  max = arr[0]\n",
        "  m = 0\n",
        "  for i in range(len(arr)):\n",
        "    if arr[i]>max:\n",
        "      max = arr[i]\n",
        "      m = i\n",
        "  return m\n",
        "\n",
        "def slowmedian(arr): # implementation of the suggested algo\n",
        "  arr2 = arr.copy()\n",
        "  n = len(arr)\n",
        "  for i in range(n//2-1):\n",
        "    arr2.pop(indexofmax(arr2))\n",
        "  if n%2 == 1:\n",
        "    arr2.pop(indexofmax(arr2))\n",
        "    return max(arr2)\n",
        "  else:\n",
        "    a = max(arr2)\n",
        "    arr2.pop(indexofmax(arr2))\n",
        "    b = max(arr2)\n",
        "    return (a+b)/2\n",
        "\n",
        "\n",
        "arr = [5, 6, 7, 8, 9, 1, 2, 3, 4]\n",
        "print(slowmedian(arr))\n",
        "\n",
        "print(\"The implementaion took\", (time.time() - start_time), \"seconds\")"
      ],
      "metadata": {
        "colab": {
          "base_uri": "https://localhost:8080/"
        },
        "id": "oqmcdON_Zwid",
        "outputId": "b7120f34-7685-485c-98a1-45938ca2f36d"
      },
      "execution_count": 90,
      "outputs": [
        {
          "output_type": "stream",
          "name": "stdout",
          "text": [
            "5\n",
            "The implementaion took 0.009248733520507812 seconds\n"
          ]
        }
      ]
    },
    {
      "cell_type": "code",
      "source": [
        "def bettermethod1(arr): #implementation of better method\n",
        "    sorted_arr = sorted(arr)\n",
        "    mid = len(sorted_arr) // 2\n",
        "    if len(arr) % 2 != 0:\n",
        "      return sorted_arr[mid]\n",
        "    else:\n",
        "      return (sorted_arr[mid-1] + sorted_arr[mid]) / 2\n",
        "\n",
        "\n",
        "\n",
        "import time\n",
        "start_time = time.time()\n",
        "print(bettermethod1(arr))\n",
        "print(\"The implementaion took\", (time.time() - start_time), \"seconds\")"
      ],
      "metadata": {
        "id": "3Y0dWy933NuD",
        "colab": {
          "base_uri": "https://localhost:8080/"
        },
        "outputId": "22c0b134-e4b9-465a-850a-d2faa2f2a745"
      },
      "execution_count": 91,
      "outputs": [
        {
          "output_type": "stream",
          "name": "stdout",
          "text": [
            "5\n",
            "The implementaion took 0.0002446174621582031 seconds\n"
          ]
        }
      ]
    },
    {
      "cell_type": "code",
      "source": [
        "import time\n",
        "start_time = time.time()\n",
        "print(np.median(arr)) #np.median method\n",
        "print(\"The implementaion took\", (time.time() - start_time), \"seconds\")"
      ],
      "metadata": {
        "id": "v8dzOd_1mhvK",
        "colab": {
          "base_uri": "https://localhost:8080/"
        },
        "outputId": "5eb442b4-2021-4305-e9d0-7aab92386ded"
      },
      "execution_count": 93,
      "outputs": [
        {
          "output_type": "stream",
          "name": "stdout",
          "text": [
            "5.0\n",
            "The implementaion took 0.0008592605590820312 seconds\n"
          ]
        }
      ]
    },
    {
      "cell_type": "markdown",
      "source": [
        "The times taken by the algorithms are as given above"
      ],
      "metadata": {
        "id": "BMhYZVgBzMvQ"
      }
    },
    {
      "cell_type": "markdown",
      "source": [
        "##Q4.What is the gradient of the following function with respect to x and y?\n",
        "#x<sup>2</sup>y + y<sup>3</sup>sinx\n"
      ],
      "metadata": {
        "id": "PcVuT1hM3OXB"
      }
    },
    {
      "cell_type": "markdown",
      "source": [
        "Answer:<br>\n",
        "Gradient with respect to x is : ∂f/∂x = 2xy + y<sup>3</sup>cos(x)\n",
        "\n",
        "Gradient with respect to y is : ∂f/∂y = x<sup>2</sup> + 3y<sup>2</sup>sin(x)\n",
        "\n"
      ],
      "metadata": {
        "id": "SJRiEQB_nCGG"
      }
    },
    {
      "cell_type": "markdown",
      "source": [
        "##Q5. Use JAX to confirm the gradient evaluated by your method matches the analytical solution corresponding to a few random values of x and y"
      ],
      "metadata": {
        "id": "LANreBRO3lqz"
      }
    },
    {
      "cell_type": "markdown",
      "source": [
        "References: https://jax.readthedocs.io/en/latest/_autosummary/jax.grad.html\n",
        "            "
      ],
      "metadata": {
        "id": "YeWqd0BOtYAi"
      }
    },
    {
      "cell_type": "code",
      "source": [
        "import jax\n",
        "import jax.numpy\n",
        "\n",
        "def f(x, y):\n",
        "    return x**2 * y + y**3 * jax.numpy.sin(x)\n",
        "\n",
        "grad_fx = jax.grad(f, argnums=(0))\n",
        "grad_fy = jax.grad(f, argnums=(1))\n",
        "x = 2.0\n",
        "y = 3.0\n",
        "gradient = [grad_fx(x, y), grad_fy(x,y)]\n",
        "analytical_gradient_x = 2*x*y + y**3 * jax.numpy.cos(x)\n",
        "analytical_gradient_y = x**2 + 3 * y**2 * jax.numpy.sin(x)\n",
        "\n",
        "print(\"Gradient by JAX:\", gradient)\n",
        "print(\"Analytical gradient:\", [analytical_gradient_x, analytical_gradient_y])\n"
      ],
      "metadata": {
        "id": "dNDOtARg3p7n",
        "colab": {
          "base_uri": "https://localhost:8080/"
        },
        "outputId": "0c676d29-8835-4f18-d642-fbd5ec63f6b2"
      },
      "execution_count": 94,
      "outputs": [
        {
          "output_type": "stream",
          "name": "stdout",
          "text": [
            "Gradient by JAX: [Array(0.7640352, dtype=float32, weak_type=True), Array(28.55103, dtype=float32, weak_type=True)]\n",
            "Analytical gradient: [Array(0.7640352, dtype=float32, weak_type=True), Array(28.55103, dtype=float32, weak_type=True)]\n"
          ]
        }
      ]
    },
    {
      "cell_type": "code",
      "source": [
        "x = 10.0\n",
        "y = 13.0\n",
        "gradient = [grad_fx(x, y), grad_fy(x,y)]\n",
        "analytical_gradient_x = 2*x*y + y**3 * jax.numpy.cos(x)\n",
        "analytical_gradient_y = x**2 + 3 * y**2 * jax.numpy.sin(x)\n",
        "\n",
        "print(\"Gradient by JAX:\", gradient)\n",
        "print(\"Analytical gradient:\", [analytical_gradient_x, analytical_gradient_y])"
      ],
      "metadata": {
        "colab": {
          "base_uri": "https://localhost:8080/"
        },
        "id": "HKWr4bpkcwT5",
        "outputId": "442177fd-7891-4fe4-c8b0-5f10a6c40719"
      },
      "execution_count": 95,
      "outputs": [
        {
          "output_type": "stream",
          "name": "stdout",
          "text": [
            "Gradient by JAX: [Array(-1583.4401, dtype=float32, weak_type=True), Array(-175.81873, dtype=float32, weak_type=True)]\n",
            "Analytical gradient: [Array(-1583.4401, dtype=float32, weak_type=True), Array(-175.81873, dtype=float32, weak_type=True)]\n"
          ]
        }
      ]
    },
    {
      "cell_type": "markdown",
      "source": [
        "##Q6. Use sympy to confirm that you obtain the same gradient analytically."
      ],
      "metadata": {
        "id": "07YkATl33qSS"
      }
    },
    {
      "cell_type": "markdown",
      "source": [
        "References: https://www.geeksforgeeks.org/python-sympy-diff-method/"
      ],
      "metadata": {
        "id": "AgUuU1ZtupoE"
      }
    },
    {
      "cell_type": "code",
      "source": [
        "import sympy\n",
        "\n",
        "x, y = sympy.symbols('x y')\n",
        "f = x**2 * y + y**3 * sympy.sin(x)\n",
        "\n",
        "df_dx = sympy.diff(f, x)\n",
        "df_dy = sympy.diff(f, y)\n",
        "\n",
        "print(\"Partial derivative with respect to x:\", df_dx)\n",
        "print(\"Partial derivative with respect to y:\", df_dy)\n"
      ],
      "metadata": {
        "id": "k5A3r9Ot3t9x",
        "colab": {
          "base_uri": "https://localhost:8080/"
        },
        "outputId": "43aeda24-55f2-455a-b549-0a562931afa6"
      },
      "execution_count": null,
      "outputs": [
        {
          "output_type": "stream",
          "name": "stdout",
          "text": [
            "Partial derivative with respect to x: 2*x*y + y**3*cos(x)\n",
            "Partial derivative with respect to y: x**2 + 3*y**2*sin(x)\n"
          ]
        }
      ]
    },
    {
      "cell_type": "markdown",
      "source": [
        "##Q7. Create a Python nested dictionary to represent hierarchical information. We want to store record of students and their marks. Something like:\n",
        "\n",
        "<pre>\n",
        "2022\n",
        "Branch 1\n",
        "Roll Number: 1, Name: N, Marks:\n",
        "Maths: 100, English: 70 …\n",
        "Branch 2\n",
        "2023\n",
        "Branch 1\n",
        "Branch 2\n",
        "2024\n",
        "Branch 1\n",
        "Branch 2\n",
        "2025\n",
        "Branch 1\n",
        "Branch 2\n",
        "</pre>"
      ],
      "metadata": {
        "id": "bkLAVFGD3uUn"
      }
    },
    {
      "cell_type": "code",
      "source": [
        "records_of_studets = {2022: {'Branch 1': {'Roll Number': 1,'Name': 'N','Marks': {'Maths': 100,'English': 70}}, 'Branch 2': {'Roll Number': 2,'Name': 'M','Marks': {'Maths': 0,'English': 20}}},\n",
        "    2023:{'Branch 1': {'Roll Number': 11,'Name': 'N1','Marks': {'Maths': 10,'English': 80}}, 'Branch 2': {'Roll Number': 20,'Name': 'M2','Marks': {'Maths': 10,'English': 30}}},\n",
        "    2024: {'Branch 1': {'Roll Number': 12,'Name': 'N2','Marks': {'Maths': 20,'English': 90}}, 'Branch 2': {'Roll Number': 21,'Name': 'M2','Marks': {'Maths': 20,'English': 40}}},\n",
        "    2025: {'Branch 1': {'Roll Number': 13,'Name': 'N3','Marks': {'Maths': 30,'English': 100}}, 'Branch 2': {'Roll Number': 22,'Name': 'M3','Marks': {'Maths': 30,'English': 50}}}}\n"
      ],
      "metadata": {
        "id": "BHLGG_rH30VM"
      },
      "execution_count": 96,
      "outputs": []
    },
    {
      "cell_type": "markdown",
      "source": [
        "##Q8. Store the same information using Python classes. We have an overall database which is a list of year objects. Each year contains a list of branches. Each branch contains a list of students. Each student has some properties like name, roll number and has marks in some subjects."
      ],
      "metadata": {
        "id": "I-byujmp3zy1"
      }
    },
    {
      "cell_type": "code",
      "source": [
        "class Marks:\n",
        "    def __init__(self, math, eng):\n",
        "        self.mathmarks = math\n",
        "        self.engmarks = eng\n",
        "\n",
        "class Student:\n",
        "    def __init__(self, roll_number, name, marks):\n",
        "        self.roll_number = roll_number\n",
        "        self.name = name\n",
        "        self.marks = marks\n",
        "\n",
        "class Branch:\n",
        "    def __init__(self):\n",
        "        self.students = []\n",
        "\n",
        "class Year:\n",
        "    def __init__(self):\n",
        "        self.branches = []\n",
        "\n",
        "database = []\n",
        "\n",
        "new_marks = Marks(100, 70)\n",
        "new_student = Student(1, \"N\", new_marks)\n",
        "new_branch = Branch()\n",
        "new_branch.students.append(new_student)\n",
        "new_year = Year()\n",
        "new_year.branches.append(new_branch)\n",
        "database.append(new_year)\n",
        "\n",
        "new_marks1 = Marks(90, 80)\n",
        "new_student1 = Student(2, \"M\", new_marks1)\n",
        "new_branch.students.append(new_student1)\n",
        "\n",
        "print(\"Student 1\")\n",
        "print(\"Name:\",database[0].branches[0].students[0].name)\n",
        "print(\"Roll No.:\",database[0].branches[0].students[0].roll_number)\n",
        "print(\"Maths Marks:\",database[0].branches[0].students[0].marks.mathmarks)\n",
        "print(\"English Marks:\",database[0].branches[0].students[0].marks.engmarks)\n",
        "\n",
        "\n",
        "print(\"\\n\\nStudent 2\")\n",
        "print(\"Name:\",database[0].branches[0].students[1].name)\n",
        "print(\"Roll No.:\",database[0].branches[0].students[1].roll_number)\n",
        "print(\"Maths Marks:\",database[0].branches[0].students[1].marks.mathmarks)\n",
        "print(\"English Marks:\",database[0].branches[0].students[1].marks.engmarks)"
      ],
      "metadata": {
        "id": "TXRUWjse347l",
        "colab": {
          "base_uri": "https://localhost:8080/"
        },
        "outputId": "e85f32cb-6a7b-4a79-b2e3-727f507917be"
      },
      "execution_count": 102,
      "outputs": [
        {
          "output_type": "stream",
          "name": "stdout",
          "text": [
            "Student 1\n",
            "Name: N\n",
            "Roll No.: 1\n",
            "Maths Marks: 100\n",
            "English Marks: 70\n",
            "\n",
            "\n",
            "Student 2\n",
            "Name: M\n",
            "Roll No.: 2\n",
            "Maths Marks: 90\n",
            "English Marks: 80\n"
          ]
        }
      ]
    },
    {
      "cell_type": "markdown",
      "source": [
        "##Q9. Using matplotlib plot the following functions on the domain: x = 0.5 to 100.0 in steps of 0.5.\n",
        "\n"
      ],
      "metadata": {
        "id": "6Cq-N4sa37DJ"
      }
    },
    {
      "cell_type": "code",
      "source": [
        "import matplotlib.pyplot as plt\n",
        "import numpy as np\n",
        "x = np.arange(0.5, 100.5, 0.5)\n",
        "y = x\n",
        "plt.plot(x, y)\n",
        "plt.xlabel('x')\n",
        "plt.ylabel('y')\n",
        "plt.title('Plot of y = x')\n",
        "plt.show()\n"
      ],
      "metadata": {
        "id": "zN5praOW39vP",
        "colab": {
          "base_uri": "https://localhost:8080/",
          "height": 472
        },
        "outputId": "b75ae38d-8554-42d5-ab6e-abb6bb9f0965"
      },
      "execution_count": null,
      "outputs": [
        {
          "output_type": "display_data",
          "data": {
            "text/plain": [
              "<Figure size 640x480 with 1 Axes>"
            ],
            "image/png": "[encoded data removed]"
          },
          "metadata": {}
        }
      ]
    },
    {
      "cell_type": "code",
      "source": [
        "import matplotlib.pyplot as plt\n",
        "import numpy as np\n",
        "x = np.arange(0.5, 100.5, 0.5)\n",
        "y = x**2\n",
        "plt.plot(x, y)\n",
        "plt.xlabel('x')\n",
        "plt.ylabel('y')\n",
        "plt.title('Plot of y = x^2')\n",
        "plt.show()\n"
      ],
      "metadata": {
        "id": "CUeXVgUEq1Fd",
        "colab": {
          "base_uri": "https://localhost:8080/",
          "height": 472
        },
        "outputId": "462eae61-2fda-4f64-9018-616eb6c27fa4"
      },
      "execution_count": null,
      "outputs": [
        {
          "output_type": "display_data",
          "data": {
            "text/plain": [
              "<Figure size 640x480 with 1 Axes>"
            ],
            "image/png": "[encoded data removed]"
          },
          "metadata": {}
        }
      ]
    },
    {
      "cell_type": "code",
      "source": [
        "import matplotlib.pyplot as plt\n",
        "import numpy as np\n",
        "x = np.arange(0.5, 100.5, 0.5)\n",
        "y = x**3/100\n",
        "plt.plot(x, y)\n",
        "plt.xlabel('x')\n",
        "plt.ylabel('y')\n",
        "plt.title('Plot of y = x^3/100')\n",
        "plt.show()\n"
      ],
      "metadata": {
        "id": "ps5chEbrq2CF",
        "colab": {
          "base_uri": "https://localhost:8080/",
          "height": 472
        },
        "outputId": "32ec6bff-4878-4e4f-f72a-f7b74c54779f"
      },
      "execution_count": null,
      "outputs": [
        {
          "output_type": "display_data",
          "data": {
            "text/plain": [
              "<Figure size 640x480 with 1 Axes>"
            ],
            "image/png": "[encoded data removed]"
          },
          "metadata": {}
        }
      ]
    },
    {
      "cell_type": "code",
      "source": [
        "import matplotlib.pyplot as plt\n",
        "import numpy as np\n",
        "x = np.arange(0.5, 100.5, 0.5)\n",
        "y = np.sin(x)\n",
        "plt.plot(x, y)\n",
        "plt.xlabel('x')\n",
        "plt.ylabel('y')\n",
        "plt.title('Plot of y = sin(x)')\n",
        "plt.show()\n"
      ],
      "metadata": {
        "id": "sa5ZBI9Zq-K4",
        "colab": {
          "base_uri": "https://localhost:8080/",
          "height": 472
        },
        "outputId": "9d3c452f-bb35-48b4-ffd1-6c985e56ac66"
      },
      "execution_count": null,
      "outputs": [
        {
          "output_type": "display_data",
          "data": {
            "text/plain": [
              "<Figure size 640x480 with 1 Axes>"
            ],
            "image/png": "[encoded data removed]"
          },
          "metadata": {}
        }
      ]
    },
    {
      "cell_type": "code",
      "source": [
        "import matplotlib.pyplot as plt\n",
        "import numpy as np\n",
        "x = np.arange(0.5, 100.5, 0.5)\n",
        "y = np.sin(x)/x\n",
        "plt.plot(x, y)\n",
        "plt.xlabel('x')\n",
        "plt.ylabel('y')\n",
        "plt.title('Plot of y = sin(x)/x')\n",
        "plt.show()\n"
      ],
      "metadata": {
        "id": "u2AuR3w_rEw6",
        "colab": {
          "base_uri": "https://localhost:8080/",
          "height": 472
        },
        "outputId": "8c7ba36d-e541-4f94-8524-8bcf7be00d96"
      },
      "execution_count": null,
      "outputs": [
        {
          "output_type": "display_data",
          "data": {
            "text/plain": [
              "<Figure size 640x480 with 1 Axes>"
            ],
            "image/png": "[encoded data removed]"
          },
          "metadata": {}
        }
      ]
    },
    {
      "cell_type": "code",
      "source": [
        "import matplotlib.pyplot as plt\n",
        "import numpy as np\n",
        "x = np.arange(0.5, 100.5, 0.5)\n",
        "y = np.log(x)\n",
        "plt.plot(x, y)\n",
        "plt.xlabel('x')\n",
        "plt.ylabel('y')\n",
        "plt.title('Plot of y = log(x)')\n",
        "plt.show()\n"
      ],
      "metadata": {
        "id": "lCHzHQWWrM35",
        "colab": {
          "base_uri": "https://localhost:8080/",
          "height": 472
        },
        "outputId": "b5be865c-ec17-4056-ee82-bce032d43bd9"
      },
      "execution_count": null,
      "outputs": [
        {
          "output_type": "display_data",
          "data": {
            "text/plain": [
              "<Figure size 640x480 with 1 Axes>"
            ],
            "image/png": "[encoded data removed]"
          },
          "metadata": {}
        }
      ]
    },
    {
      "cell_type": "code",
      "source": [
        "import matplotlib.pyplot as plt\n",
        "import numpy as np\n",
        "x = np.arange(0.5, 100.5, 0.5)\n",
        "y = np.exp(x)\n",
        "plt.plot(x, y)\n",
        "plt.xlabel('x')\n",
        "plt.ylabel('y')\n",
        "plt.title('Plot of y = e^x')\n",
        "plt.show()\n"
      ],
      "metadata": {
        "id": "GKKLu2jHrbLa",
        "colab": {
          "base_uri": "https://localhost:8080/",
          "height": 472
        },
        "outputId": "31d874a6-d7fc-40b7-ae11-6b44149ac265"
      },
      "execution_count": null,
      "outputs": [
        {
          "output_type": "display_data",
          "data": {
            "text/plain": [
              "<Figure size 640x480 with 1 Axes>"
            ],
            "image/png": "[encoded data removed]"
          },
          "metadata": {}
        }
      ]
    },
    {
      "cell_type": "markdown",
      "source": [
        "##Q10. Using numpy generate a matrix of size 20X5 containing random numbers drawn uniformly from the range of 1 to 2. Using Pandas create a dataframe out of this matrix. Name the columns of the dataframe as “a”, “b”, “c”, “d”, “e”. Find the column with the highest standard deviation. Find the row with the lowest mean.\n",
        "\n"
      ],
      "metadata": {
        "id": "9w9Rr_sY3-SE"
      }
    },
    {
      "cell_type": "markdown",
      "source": [
        "References:\n",
        "\n",
        "https://www.geeksforgeeks.org/python-pandas-dataframe-idxmax/"
      ],
      "metadata": {
        "id": "earJUCkSvbVL"
      }
    },
    {
      "cell_type": "code",
      "source": [
        "import numpy as np\n",
        "import pandas as pd\n",
        "mat = np.random.uniform(1, 2, size=(20, 5))\n",
        "mat"
      ],
      "metadata": {
        "id": "3cZdNUoY4Amz",
        "colab": {
          "base_uri": "https://localhost:8080/"
        },
        "outputId": "330b2b8e-de1f-42a3-dbe1-a8539f0e1803"
      },
      "execution_count": 105,
      "outputs": [
        {
          "output_type": "execute_result",
          "data": {
            "text/plain": [
              "array([[1.94987211, 1.16223433, 1.18422589, 1.7700276 , 1.45813355],\n",
              "       [1.09533658, 1.03213486, 1.76755256, 1.31507042, 1.11140659],\n",
              "       [1.67624105, 1.27514209, 1.50275777, 1.07805837, 1.13978065],\n",
              "       [1.74758325, 1.76976989, 1.27283537, 1.88800242, 1.07435431],\n",
              "       [1.50808463, 1.99183965, 1.47652774, 1.64626385, 1.85435599],\n",
              "       [1.42052983, 1.68708988, 1.29225938, 1.87314964, 1.57693783],\n",
              "       [1.98017587, 1.65568273, 1.76900951, 1.45013779, 1.66962239],\n",
              "       [1.05591129, 1.46111431, 1.05331184, 1.5834174 , 1.64201599],\n",
              "       [1.73855753, 1.22298705, 1.15723116, 1.98353837, 1.46174824],\n",
              "       [1.83921591, 1.32615002, 1.79127403, 1.20209044, 1.02932063],\n",
              "       [1.68426219, 1.25397517, 1.29632063, 1.51626693, 1.1378308 ],\n",
              "       [1.75057857, 1.90340658, 1.44311315, 1.73298039, 1.93161827],\n",
              "       [1.45269673, 1.5704963 , 1.19657632, 1.74047806, 1.50839902],\n",
              "       [1.45361113, 1.89382732, 1.66650896, 1.66234092, 1.24965939],\n",
              "       [1.40618522, 1.87725192, 1.03079176, 1.98371197, 1.83341014],\n",
              "       [1.07862478, 1.74118763, 1.46827542, 1.96930275, 1.88731401],\n",
              "       [1.44789811, 1.75557408, 1.37800394, 1.27219565, 1.5417778 ],\n",
              "       [1.38240337, 1.34641563, 1.03543399, 1.95775058, 1.04538174],\n",
              "       [1.10999828, 1.94349392, 1.6240903 , 1.70495098, 1.14287396],\n",
              "       [1.18832528, 1.91512578, 1.548783  , 1.31548948, 1.47824563]])"
            ]
          },
          "metadata": {},
          "execution_count": 105
        }
      ]
    },
    {
      "cell_type": "code",
      "source": [
        "df = pd.DataFrame(mat, columns=[\"a\", \"b\", \"c\", \"d\", \"e\"])\n",
        "df"
      ],
      "metadata": {
        "colab": {
          "base_uri": "https://localhost:8080/",
          "height": 676
        },
        "id": "Zf2Pu4NbgOrQ",
        "outputId": "c337a447-9596-40d3-810f-2239813d8db5"
      },
      "execution_count": 106,
      "outputs": [
        {
          "output_type": "execute_result",
          "data": {
            "text/plain": [
              "           a         b         c         d         e\n",
              "0   1.949872  1.162234  1.184226  1.770028  1.458134\n",
              "1   1.095337  1.032135  1.767553  1.315070  1.111407\n",
              "2   1.676241  1.275142  1.502758  1.078058  1.139781\n",
              "3   1.747583  1.769770  1.272835  1.888002  1.074354\n",
              "4   1.508085  1.991840  1.476528  1.646264  1.854356\n",
              "5   1.420530  1.687090  1.292259  1.873150  1.576938\n",
              "6   1.980176  1.655683  1.769010  1.450138  1.669622\n",
              "7   1.055911  1.461114  1.053312  1.583417  1.642016\n",
              "8   1.738558  1.222987  1.157231  1.983538  1.461748\n",
              "9   1.839216  1.326150  1.791274  1.202090  1.029321\n",
              "10  1.684262  1.253975  1.296321  1.516267  1.137831\n",
              "11  1.750579  1.903407  1.443113  1.732980  1.931618\n",
              "12  1.452697  1.570496  1.196576  1.740478  1.508399\n",
              "13  1.453611  1.893827  1.666509  1.662341  1.249659\n",
              "14  1.406185  1.877252  1.030792  1.983712  1.833410\n",
              "15  1.078625  1.741188  1.468275  1.969303  1.887314\n",
              "16  1.447898  1.755574  1.378004  1.272196  1.541778\n",
              "17  1.382403  1.346416  1.035434  1.957751  1.045382\n",
              "18  1.109998  1.943494  1.624090  1.704951  1.142874\n",
              "19  1.188325  1.915126  1.548783  1.315489  1.478246"
            ],
            "text/html": [
              "\n",
              "  <div id=\"df-88c80e07-9ab2-4732-8a37-17cce8543993\" class=\"colab-df-container\">\n",
              "    <div>\n",
              "<style scoped>\n",
              "    .dataframe tbody tr th:only-of-type {\n",
              "        vertical-align: middle;\n",
              "    }\n",
              "\n",
              "    .dataframe tbody tr th {\n",
              "        vertical-align: top;\n",
              "    }\n",
              "\n",
              "    .dataframe thead th {\n",
              "        text-align: right;\n",
              "    }\n",
              "</style>\n",
              "<table border=\"1\" class=\"dataframe\">\n",
              "  <thead>\n",
              "    <tr style=\"text-align: right;\">\n",
              "      <th></th>\n",
              "      <th>a</th>\n",
              "      <th>b</th>\n",
              "      <th>c</th>\n",
              "      <th>d</th>\n",
              "      <th>e</th>\n",
              "    </tr>\n",
              "  </thead>\n",
              "  <tbody>\n",
              "    <tr>\n",
              "      <th>0</th>\n",
              "      <td>1.949872</td>\n",
              "      <td>1.162234</td>\n",
              "      <td>1.184226</td>\n",
              "      <td>1.770028</td>\n",
              "      <td>1.458134</td>\n",
              "    </tr>\n",
              "    <tr>\n",
              "      <th>1</th>\n",
              "      <td>1.095337</td>\n",
              "      <td>1.032135</td>\n",
              "      <td>1.767553</td>\n",
              "      <td>1.315070</td>\n",
              "      <td>1.111407</td>\n",
              "    </tr>\n",
              "    <tr>\n",
              "      <th>2</th>\n",
              "      <td>1.676241</td>\n",
              "      <td>1.275142</td>\n",
              "      <td>1.502758</td>\n",
              "      <td>1.078058</td>\n",
              "      <td>1.139781</td>\n",
              "    </tr>\n",
              "    <tr>\n",
              "      <th>3</th>\n",
              "      <td>1.747583</td>\n",
              "      <td>1.769770</td>\n",
              "      <td>1.272835</td>\n",
              "      <td>1.888002</td>\n",
              "      <td>1.074354</td>\n",
              "    </tr>\n",
              "    <tr>\n",
              "      <th>4</th>\n",
              "      <td>1.508085</td>\n",
              "      <td>1.991840</td>\n",
              "      <td>1.476528</td>\n",
              "      <td>1.646264</td>\n",
              "      <td>1.854356</td>\n",
              "    </tr>\n",
              "    <tr>\n",
              "      <th>5</th>\n",
              "      <td>1.420530</td>\n",
              "      <td>1.687090</td>\n",
              "      <td>1.292259</td>\n",
              "      <td>1.873150</td>\n",
              "      <td>1.576938</td>\n",
              "    </tr>\n",
              "    <tr>\n",
              "      <th>6</th>\n",
              "      <td>1.980176</td>\n",
              "      <td>1.655683</td>\n",
              "      <td>1.769010</td>\n",
              "      <td>1.450138</td>\n",
              "      <td>1.669622</td>\n",
              "    </tr>\n",
              "    <tr>\n",
              "      <th>7</th>\n",
              "      <td>1.055911</td>\n",
              "      <td>1.461114</td>\n",
              "      <td>1.053312</td>\n",
              "      <td>1.583417</td>\n",
              "      <td>1.642016</td>\n",
              "    </tr>\n",
              "    <tr>\n",
              "      <th>8</th>\n",
              "      <td>1.738558</td>\n",
              "      <td>1.222987</td>\n",
              "      <td>1.157231</td>\n",
              "      <td>1.983538</td>\n",
              "      <td>1.461748</td>\n",
              "    </tr>\n",
              "    <tr>\n",
              "      <th>9</th>\n",
              "      <td>1.839216</td>\n",
              "      <td>1.326150</td>\n",
              "      <td>1.791274</td>\n",
              "      <td>1.202090</td>\n",
              "      <td>1.029321</td>\n",
              "    </tr>\n",
              "    <tr>\n",
              "      <th>10</th>\n",
              "      <td>1.684262</td>\n",
              "      <td>1.253975</td>\n",
              "      <td>1.296321</td>\n",
              "      <td>1.516267</td>\n",
              "      <td>1.137831</td>\n",
              "    </tr>\n",
              "    <tr>\n",
              "      <th>11</th>\n",
              "      <td>1.750579</td>\n",
              "      <td>1.903407</td>\n",
              "      <td>1.443113</td>\n",
              "      <td>1.732980</td>\n",
              "      <td>1.931618</td>\n",
              "    </tr>\n",
              "    <tr>\n",
              "      <th>12</th>\n",
              "      <td>1.452697</td>\n",
              "      <td>1.570496</td>\n",
              "      <td>1.196576</td>\n",
              "      <td>1.740478</td>\n",
              "      <td>1.508399</td>\n",
              "    </tr>\n",
              "    <tr>\n",
              "      <th>13</th>\n",
              "      <td>1.453611</td>\n",
              "      <td>1.893827</td>\n",
              "      <td>1.666509</td>\n",
              "      <td>1.662341</td>\n",
              "      <td>1.249659</td>\n",
              "    </tr>\n",
              "    <tr>\n",
              "      <th>14</th>\n",
              "      <td>1.406185</td>\n",
              "      <td>1.877252</td>\n",
              "      <td>1.030792</td>\n",
              "      <td>1.983712</td>\n",
              "      <td>1.833410</td>\n",
              "    </tr>\n",
              "    <tr>\n",
              "      <th>15</th>\n",
              "      <td>1.078625</td>\n",
              "      <td>1.741188</td>\n",
              "      <td>1.468275</td>\n",
              "      <td>1.969303</td>\n",
              "      <td>1.887314</td>\n",
              "    </tr>\n",
              "    <tr>\n",
              "      <th>16</th>\n",
              "      <td>1.447898</td>\n",
              "      <td>1.755574</td>\n",
              "      <td>1.378004</td>\n",
              "      <td>1.272196</td>\n",
              "      <td>1.541778</td>\n",
              "    </tr>\n",
              "    <tr>\n",
              "      <th>17</th>\n",
              "      <td>1.382403</td>\n",
              "      <td>1.346416</td>\n",
              "      <td>1.035434</td>\n",
              "      <td>1.957751</td>\n",
              "      <td>1.045382</td>\n",
              "    </tr>\n",
              "    <tr>\n",
              "      <th>18</th>\n",
              "      <td>1.109998</td>\n",
              "      <td>1.943494</td>\n",
              "      <td>1.624090</td>\n",
              "      <td>1.704951</td>\n",
              "      <td>1.142874</td>\n",
              "    </tr>\n",
              "    <tr>\n",
              "      <th>19</th>\n",
              "      <td>1.188325</td>\n",
              "      <td>1.915126</td>\n",
              "      <td>1.548783</td>\n",
              "      <td>1.315489</td>\n",
              "      <td>1.478246</td>\n",
              "    </tr>\n",
              "  </tbody>\n",
              "</table>\n",
              "</div>\n",
              "    <div class=\"colab-df-buttons\">\n",
              "\n",
              "  <div class=\"colab-df-container\">\n",
              "    <button class=\"colab-df-convert\" onclick=\"convertToInteractive('df-88c80e07-9ab2-4732-8a37-17cce8543993')\"\n",
              "            title=\"Convert this dataframe to an interactive table.\"\n",
              "            style=\"display:none;\">\n",
              "\n",
              "  <svg xmlns=\"http://www.w3.org/2000/svg\" height=\"24px\" viewBox=\"0 -960 960 960\">\n",
              "    <path d=\"M120-120v-720h720v720H120Zm60-500h600v-160H180v160Zm220 220h160v-160H400v160Zm0 220h160v-160H400v160ZM180-400h160v-160H180v160Zm440 0h160v-160H620v160ZM180-180h160v-160H180v160Zm440 0h160v-160H620v160Z\"/>\n",
              "  </svg>\n",
              "    </button>\n",
              "\n",
              "  <style>\n",
              "    .colab-df-container {\n",
              "      display:flex;\n",
              "      gap: 12px;\n",
              "    }\n",
              "\n",
              "    .colab-df-convert {\n",
              "      background-color: #E8F0FE;\n",
              "      border: none;\n",
              "      border-radius: 50%;\n",
              "      cursor: pointer;\n",
              "      display: none;\n",
              "      fill: #1967D2;\n",
              "      height: 32px;\n",
              "      padding: 0 0 0 0;\n",
              "      width: 32px;\n",
              "    }\n",
              "\n",
              "    .colab-df-convert:hover {\n",
              "      background-color: #E2EBFA;\n",
              "      box-shadow: 0px 1px 2px rgba(60, 64, 67, 0.3), 0px 1px 3px 1px rgba(60, 64, 67, 0.15);\n",
              "      fill: #174EA6;\n",
              "    }\n",
              "\n",
              "    .colab-df-buttons div {\n",
              "      margin-bottom: 4px;\n",
              "    }\n",
              "\n",
              "    [theme=dark] .colab-df-convert {\n",
              "      background-color: #3B4455;\n",
              "      fill: #D2E3FC;\n",
              "    }\n",
              "\n",
              "    [theme=dark] .colab-df-convert:hover {\n",
              "      background-color: #434B5C;\n",
              "      box-shadow: 0px 1px 3px 1px rgba(0, 0, 0, 0.15);\n",
              "      filter: drop-shadow(0px 1px 2px rgba(0, 0, 0, 0.3));\n",
              "      fill: #FFFFFF;\n",
              "    }\n",
              "  </style>\n",
              "\n",
              "    <script>\n",
              "      const buttonEl =\n",
              "        document.querySelector('#df-88c80e07-9ab2-4732-8a37-17cce8543993 button.colab-df-convert');\n",
              "      buttonEl.style.display =\n",
              "        google.colab.kernel.accessAllowed ? 'block' : 'none';\n",
              "\n",
              "      async function convertToInteractive(key) {\n",
              "        const element = document.querySelector('#df-88c80e07-9ab2-4732-8a37-17cce8543993');\n",
              "        const dataTable =\n",
              "          await google.colab.kernel.invokeFunction('convertToInteractive',\n",
              "                                                    [key], {});\n",
              "        if (!dataTable) return;\n",
              "\n",
              "        const docLinkHtml = 'Like what you see? Visit the ' +\n",
              "          '<a target=\"_blank\" href=https://colab.research.google.com/notebooks/data_table.ipynb>data table notebook</a>'\n",
              "          + ' to learn more about interactive tables.';\n",
              "        element.innerHTML = '';\n",
              "        dataTable['output_type'] = 'display_data';\n",
              "        await google.colab.output.renderOutput(dataTable, element);\n",
              "        const docLink = document.createElement('div');\n",
              "        docLink.innerHTML = docLinkHtml;\n",
              "        element.appendChild(docLink);\n",
              "      }\n",
              "    </script>\n",
              "  </div>\n",
              "\n",
              "\n",
              "<div id=\"df-89ecc56f-006c-4346-a527-682e4c8c3c18\">\n",
              "  <button class=\"colab-df-quickchart\" onclick=\"quickchart('df-89ecc56f-006c-4346-a527-682e4c8c3c18')\"\n",
              "            title=\"Suggest charts\"\n",
              "            style=\"display:none;\">\n",
              "\n",
              "<svg xmlns=\"http://www.w3.org/2000/svg\" height=\"24px\"viewBox=\"0 0 24 24\"\n",
              "     width=\"24px\">\n",
              "    <g>\n",
              "        <path d=\"M19 3H5c-1.1 0-2 .9-2 2v14c0 1.1.9 2 2 2h14c1.1 0 2-.9 2-2V5c0-1.1-.9-2-2-2zM9 17H7v-7h2v7zm4 0h-2V7h2v10zm4 0h-2v-4h2v4z\"/>\n",
              "    </g>\n",
              "</svg>\n",
              "  </button>\n",
              "\n",
              "<style>\n",
              "  .colab-df-quickchart {\n",
              "      --bg-color: #E8F0FE;\n",
              "      --fill-color: #1967D2;\n",
              "      --hover-bg-color: #E2EBFA;\n",
              "      --hover-fill-color: #174EA6;\n",
              "      --disabled-fill-color: #AAA;\n",
              "      --disabled-bg-color: #DDD;\n",
              "  }\n",
              "\n",
              "  [theme=dark] .colab-df-quickchart {\n",
              "      --bg-color: #3B4455;\n",
              "      --fill-color: #D2E3FC;\n",
              "      --hover-bg-color: #434B5C;\n",
              "      --hover-fill-color: #FFFFFF;\n",
              "      --disabled-bg-color: #3B4455;\n",
              "      --disabled-fill-color: #666;\n",
              "  }\n",
              "\n",
              "  .colab-df-quickchart {\n",
              "    background-color: var(--bg-color);\n",
              "    border: none;\n",
              "    border-radius: 50%;\n",
              "    cursor: pointer;\n",
              "    display: none;\n",
              "    fill: var(--fill-color);\n",
              "    height: 32px;\n",
              "    padding: 0;\n",
              "    width: 32px;\n",
              "  }\n",
              "\n",
              "  .colab-df-quickchart:hover {\n",
              "    background-color: var(--hover-bg-color);\n",
              "    box-shadow: 0 1px 2px rgba(60, 64, 67, 0.3), 0 1px 3px 1px rgba(60, 64, 67, 0.15);\n",
              "    fill: var(--button-hover-fill-color);\n",
              "  }\n",
              "\n",
              "  .colab-df-quickchart-complete:disabled,\n",
              "  .colab-df-quickchart-complete:disabled:hover {\n",
              "    background-color: var(--disabled-bg-color);\n",
              "    fill: var(--disabled-fill-color);\n",
              "    box-shadow: none;\n",
              "  }\n",
              "\n",
              "  .colab-df-spinner {\n",
              "    border: 2px solid var(--fill-color);\n",
              "    border-color: transparent;\n",
              "    border-bottom-color: var(--fill-color);\n",
              "    animation:\n",
              "      spin 1s steps(1) infinite;\n",
              "  }\n",
              "\n",
              "  @keyframes spin {\n",
              "    0% {\n",
              "      border-color: transparent;\n",
              "      border-bottom-color: var(--fill-color);\n",
              "      border-left-color: var(--fill-color);\n",
              "    }\n",
              "    20% {\n",
              "      border-color: transparent;\n",
              "      border-left-color: var(--fill-color);\n",
              "      border-top-color: var(--fill-color);\n",
              "    }\n",
              "    30% {\n",
              "      border-color: transparent;\n",
              "      border-left-color: var(--fill-color);\n",
              "      border-top-color: var(--fill-color);\n",
              "      border-right-color: var(--fill-color);\n",
              "    }\n",
              "    40% {\n",
              "      border-color: transparent;\n",
              "      border-right-color: var(--fill-color);\n",
              "      border-top-color: var(--fill-color);\n",
              "    }\n",
              "    60% {\n",
              "      border-color: transparent;\n",
              "      border-right-color: var(--fill-color);\n",
              "    }\n",
              "    80% {\n",
              "      border-color: transparent;\n",
              "      border-right-color: var(--fill-color);\n",
              "      border-bottom-color: var(--fill-color);\n",
              "    }\n",
              "    90% {\n",
              "      border-color: transparent;\n",
              "      border-bottom-color: var(--fill-color);\n",
              "    }\n",
              "  }\n",
              "</style>\n",
              "\n",
              "  <script>\n",
              "    async function quickchart(key) {\n",
              "      const quickchartButtonEl =\n",
              "        document.querySelector('#' + key + ' button');\n",
              "      quickchartButtonEl.disabled = true;  // To prevent multiple clicks.\n",
              "      quickchartButtonEl.classList.add('colab-df-spinner');\n",
              "      try {\n",
              "        const charts = await google.colab.kernel.invokeFunction(\n",
              "            'suggestCharts', [key], {});\n",
              "      } catch (error) {\n",
              "        console.error('Error during call to suggestCharts:', error);\n",
              "      }\n",
              "      quickchartButtonEl.classList.remove('colab-df-spinner');\n",
              "      quickchartButtonEl.classList.add('colab-df-quickchart-complete');\n",
              "    }\n",
              "    (() => {\n",
              "      let quickchartButtonEl =\n",
              "        document.querySelector('#df-89ecc56f-006c-4346-a527-682e4c8c3c18 button');\n",
              "      quickchartButtonEl.style.display =\n",
              "        google.colab.kernel.accessAllowed ? 'block' : 'none';\n",
              "    })();\n",
              "  </script>\n",
              "</div>\n",
              "\n",
              "  <div id=\"id_911363ec-390b-4784-994c-9765b46ffc3b\">\n",
              "    <style>\n",
              "      .colab-df-generate {\n",
              "        background-color: #E8F0FE;\n",
              "        border: none;\n",
              "        border-radius: 50%;\n",
              "        cursor: pointer;\n",
              "        display: none;\n",
              "        fill: #1967D2;\n",
              "        height: 32px;\n",
              "        padding: 0 0 0 0;\n",
              "        width: 32px;\n",
              "      }\n",
              "\n",
              "      .colab-df-generate:hover {\n",
              "        background-color: #E2EBFA;\n",
              "        box-shadow: 0px 1px 2px rgba(60, 64, 67, 0.3), 0px 1px 3px 1px rgba(60, 64, 67, 0.15);\n",
              "        fill: #174EA6;\n",
              "      }\n",
              "\n",
              "      [theme=dark] .colab-df-generate {\n",
              "        background-color: #3B4455;\n",
              "        fill: #D2E3FC;\n",
              "      }\n",
              "\n",
              "      [theme=dark] .colab-df-generate:hover {\n",
              "        background-color: #434B5C;\n",
              "        box-shadow: 0px 1px 3px 1px rgba(0, 0, 0, 0.15);\n",
              "        filter: drop-shadow(0px 1px 2px rgba(0, 0, 0, 0.3));\n",
              "        fill: #FFFFFF;\n",
              "      }\n",
              "    </style>\n",
              "    <button class=\"colab-df-generate\" onclick=\"generateWithVariable('df')\"\n",
              "            title=\"Generate code using this dataframe.\"\n",
              "            style=\"display:none;\">\n",
              "\n",
              "  <svg xmlns=\"http://www.w3.org/2000/svg\" height=\"24px\"viewBox=\"0 0 24 24\"\n",
              "       width=\"24px\">\n",
              "    <path d=\"M7,19H8.4L18.45,9,17,7.55,7,17.6ZM5,21V16.75L18.45,3.32a2,2,0,0,1,2.83,0l1.4,1.43a1.91,1.91,0,0,1,.58,1.4,1.91,1.91,0,0,1-.58,1.4L9.25,21ZM18.45,9,17,7.55Zm-12,3A5.31,5.31,0,0,0,4.9,8.1,5.31,5.31,0,0,0,1,6.5,5.31,5.31,0,0,0,4.9,4.9,5.31,5.31,0,0,0,6.5,1,5.31,5.31,0,0,0,8.1,4.9,5.31,5.31,0,0,0,12,6.5,5.46,5.46,0,0,0,6.5,12Z\"/>\n",
              "  </svg>\n",
              "    </button>\n",
              "    <script>\n",
              "      (() => {\n",
              "      const buttonEl =\n",
              "        document.querySelector('#id_911363ec-390b-4784-994c-9765b46ffc3b button.colab-df-generate');\n",
              "      buttonEl.style.display =\n",
              "        google.colab.kernel.accessAllowed ? 'block' : 'none';\n",
              "\n",
              "      buttonEl.onclick = () => {\n",
              "        google.colab.notebook.generateWithVariable('df');\n",
              "      }\n",
              "      })();\n",
              "    </script>\n",
              "  </div>\n",
              "\n",
              "    </div>\n",
              "  </div>\n"
            ]
          },
          "metadata": {},
          "execution_count": 106
        }
      ]
    },
    {
      "cell_type": "code",
      "source": [
        "higheststdcol = df.std().idxmax()\n",
        "higheststdcol"
      ],
      "metadata": {
        "colab": {
          "base_uri": "https://localhost:8080/",
          "height": 35
        },
        "id": "HpMKQpt1gUfB",
        "outputId": "6d54faea-42fe-48e4-dbb8-228ef367f994"
      },
      "execution_count": 107,
      "outputs": [
        {
          "output_type": "execute_result",
          "data": {
            "text/plain": [
              "'e'"
            ],
            "application/vnd.google.colaboratory.intrinsic+json": {
              "type": "string"
            }
          },
          "metadata": {},
          "execution_count": 107
        }
      ]
    },
    {
      "cell_type": "code",
      "source": [
        "lowestmeanrow = df.mean(axis=1).idxmin()\n",
        "lowestmeanrow"
      ],
      "metadata": {
        "colab": {
          "base_uri": "https://localhost:8080/"
        },
        "id": "v4A0g4w2giwu",
        "outputId": "b5696d5c-68df-4ef1-b645-40be815f932c"
      },
      "execution_count": 108,
      "outputs": [
        {
          "output_type": "execute_result",
          "data": {
            "text/plain": [
              "1"
            ]
          },
          "metadata": {},
          "execution_count": 108
        }
      ]
    },
    {
      "cell_type": "markdown",
      "source": [
        "##Q11. Add a new column to the dataframe called “f” which is the sum of the columns “a”, “b”, “c”, “d”, “e”. Create another column called “g”. The value in the column “g” should be “LT8” if the value in the column “f” is less than 8 and “GT8” otherwise. Find the number of rows in the dataframe where the value in the column “g” is “LT8”. Find the standard deviation of the column “f” for the rows where the value in the column “g” is “LT8” and “GT8” respectively"
      ],
      "metadata": {
        "id": "yw2bdbdJpoVU"
      }
    },
    {
      "cell_type": "code",
      "source": [
        "df[\"f\"] = df[[\"a\", \"b\", \"c\", \"d\", \"e\"]].sum(axis=1)\n",
        "df\n"
      ],
      "metadata": {
        "id": "SaHK9Y4Spn5N",
        "colab": {
          "base_uri": "https://localhost:8080/",
          "height": 676
        },
        "outputId": "ba8d0e64-0642-4e7c-b07d-637a0f53dc6a"
      },
      "execution_count": 109,
      "outputs": [
        {
          "output_type": "execute_result",
          "data": {
            "text/plain": [
              "           a         b         c         d         e         f\n",
              "0   1.949872  1.162234  1.184226  1.770028  1.458134  7.524493\n",
              "1   1.095337  1.032135  1.767553  1.315070  1.111407  6.321501\n",
              "2   1.676241  1.275142  1.502758  1.078058  1.139781  6.671980\n",
              "3   1.747583  1.769770  1.272835  1.888002  1.074354  7.752545\n",
              "4   1.508085  1.991840  1.476528  1.646264  1.854356  8.477072\n",
              "5   1.420530  1.687090  1.292259  1.873150  1.576938  7.849967\n",
              "6   1.980176  1.655683  1.769010  1.450138  1.669622  8.524628\n",
              "7   1.055911  1.461114  1.053312  1.583417  1.642016  6.795771\n",
              "8   1.738558  1.222987  1.157231  1.983538  1.461748  7.564062\n",
              "9   1.839216  1.326150  1.791274  1.202090  1.029321  7.188051\n",
              "10  1.684262  1.253975  1.296321  1.516267  1.137831  6.888656\n",
              "11  1.750579  1.903407  1.443113  1.732980  1.931618  8.761697\n",
              "12  1.452697  1.570496  1.196576  1.740478  1.508399  7.468646\n",
              "13  1.453611  1.893827  1.666509  1.662341  1.249659  7.925948\n",
              "14  1.406185  1.877252  1.030792  1.983712  1.833410  8.131351\n",
              "15  1.078625  1.741188  1.468275  1.969303  1.887314  8.144705\n",
              "16  1.447898  1.755574  1.378004  1.272196  1.541778  7.395450\n",
              "17  1.382403  1.346416  1.035434  1.957751  1.045382  6.767385\n",
              "18  1.109998  1.943494  1.624090  1.704951  1.142874  7.525407\n",
              "19  1.188325  1.915126  1.548783  1.315489  1.478246  7.445969"
            ],
            "text/html": [
              "\n",
              "  <div id=\"df-9eb9a523-0771-4c79-8a88-9e63f3f114dc\" class=\"colab-df-container\">\n",
              "    <div>\n",
              "<style scoped>\n",
              "    .dataframe tbody tr th:only-of-type {\n",
              "        vertical-align: middle;\n",
              "    }\n",
              "\n",
              "    .dataframe tbody tr th {\n",
              "        vertical-align: top;\n",
              "    }\n",
              "\n",
              "    .dataframe thead th {\n",
              "        text-align: right;\n",
              "    }\n",
              "</style>\n",
              "<table border=\"1\" class=\"dataframe\">\n",
              "  <thead>\n",
              "    <tr style=\"text-align: right;\">\n",
              "      <th></th>\n",
              "      <th>a</th>\n",
              "      <th>b</th>\n",
              "      <th>c</th>\n",
              "      <th>d</th>\n",
              "      <th>e</th>\n",
              "      <th>f</th>\n",
              "    </tr>\n",
              "  </thead>\n",
              "  <tbody>\n",
              "    <tr>\n",
              "      <th>0</th>\n",
              "      <td>1.949872</td>\n",
              "      <td>1.162234</td>\n",
              "      <td>1.184226</td>\n",
              "      <td>1.770028</td>\n",
              "      <td>1.458134</td>\n",
              "      <td>7.524493</td>\n",
              "    </tr>\n",
              "    <tr>\n",
              "      <th>1</th>\n",
              "      <td>1.095337</td>\n",
              "      <td>1.032135</td>\n",
              "      <td>1.767553</td>\n",
              "      <td>1.315070</td>\n",
              "      <td>1.111407</td>\n",
              "      <td>6.321501</td>\n",
              "    </tr>\n",
              "    <tr>\n",
              "      <th>2</th>\n",
              "      <td>1.676241</td>\n",
              "      <td>1.275142</td>\n",
              "      <td>1.502758</td>\n",
              "      <td>1.078058</td>\n",
              "      <td>1.139781</td>\n",
              "      <td>6.671980</td>\n",
              "    </tr>\n",
              "    <tr>\n",
              "      <th>3</th>\n",
              "      <td>1.747583</td>\n",
              "      <td>1.769770</td>\n",
              "      <td>1.272835</td>\n",
              "      <td>1.888002</td>\n",
              "      <td>1.074354</td>\n",
              "      <td>7.752545</td>\n",
              "    </tr>\n",
              "    <tr>\n",
              "      <th>4</th>\n",
              "      <td>1.508085</td>\n",
              "      <td>1.991840</td>\n",
              "      <td>1.476528</td>\n",
              "      <td>1.646264</td>\n",
              "      <td>1.854356</td>\n",
              "      <td>8.477072</td>\n",
              "    </tr>\n",
              "    <tr>\n",
              "      <th>5</th>\n",
              "      <td>1.420530</td>\n",
              "      <td>1.687090</td>\n",
              "      <td>1.292259</td>\n",
              "      <td>1.873150</td>\n",
              "      <td>1.576938</td>\n",
              "      <td>7.849967</td>\n",
              "    </tr>\n",
              "    <tr>\n",
              "      <th>6</th>\n",
              "      <td>1.980176</td>\n",
              "      <td>1.655683</td>\n",
              "      <td>1.769010</td>\n",
              "      <td>1.450138</td>\n",
              "      <td>1.669622</td>\n",
              "      <td>8.524628</td>\n",
              "    </tr>\n",
              "    <tr>\n",
              "      <th>7</th>\n",
              "      <td>1.055911</td>\n",
              "      <td>1.461114</td>\n",
              "      <td>1.053312</td>\n",
              "      <td>1.583417</td>\n",
              "      <td>1.642016</td>\n",
              "      <td>6.795771</td>\n",
              "    </tr>\n",
              "    <tr>\n",
              "      <th>8</th>\n",
              "      <td>1.738558</td>\n",
              "      <td>1.222987</td>\n",
              "      <td>1.157231</td>\n",
              "      <td>1.983538</td>\n",
              "      <td>1.461748</td>\n",
              "      <td>7.564062</td>\n",
              "    </tr>\n",
              "    <tr>\n",
              "      <th>9</th>\n",
              "      <td>1.839216</td>\n",
              "      <td>1.326150</td>\n",
              "      <td>1.791274</td>\n",
              "      <td>1.202090</td>\n",
              "      <td>1.029321</td>\n",
              "      <td>7.188051</td>\n",
              "    </tr>\n",
              "    <tr>\n",
              "      <th>10</th>\n",
              "      <td>1.684262</td>\n",
              "      <td>1.253975</td>\n",
              "      <td>1.296321</td>\n",
              "      <td>1.516267</td>\n",
              "      <td>1.137831</td>\n",
              "      <td>6.888656</td>\n",
              "    </tr>\n",
              "    <tr>\n",
              "      <th>11</th>\n",
              "      <td>1.750579</td>\n",
              "      <td>1.903407</td>\n",
              "      <td>1.443113</td>\n",
              "      <td>1.732980</td>\n",
              "      <td>1.931618</td>\n",
              "      <td>8.761697</td>\n",
              "    </tr>\n",
              "    <tr>\n",
              "      <th>12</th>\n",
              "      <td>1.452697</td>\n",
              "      <td>1.570496</td>\n",
              "      <td>1.196576</td>\n",
              "      <td>1.740478</td>\n",
              "      <td>1.508399</td>\n",
              "      <td>7.468646</td>\n",
              "    </tr>\n",
              "    <tr>\n",
              "      <th>13</th>\n",
              "      <td>1.453611</td>\n",
              "      <td>1.893827</td>\n",
              "      <td>1.666509</td>\n",
              "      <td>1.662341</td>\n",
              "      <td>1.249659</td>\n",
              "      <td>7.925948</td>\n",
              "    </tr>\n",
              "    <tr>\n",
              "      <th>14</th>\n",
              "      <td>1.406185</td>\n",
              "      <td>1.877252</td>\n",
              "      <td>1.030792</td>\n",
              "      <td>1.983712</td>\n",
              "      <td>1.833410</td>\n",
              "      <td>8.131351</td>\n",
              "    </tr>\n",
              "    <tr>\n",
              "      <th>15</th>\n",
              "      <td>1.078625</td>\n",
              "      <td>1.741188</td>\n",
              "      <td>1.468275</td>\n",
              "      <td>1.969303</td>\n",
              "      <td>1.887314</td>\n",
              "      <td>8.144705</td>\n",
              "    </tr>\n",
              "    <tr>\n",
              "      <th>16</th>\n",
              "      <td>1.447898</td>\n",
              "      <td>1.755574</td>\n",
              "      <td>1.378004</td>\n",
              "      <td>1.272196</td>\n",
              "      <td>1.541778</td>\n",
              "      <td>7.395450</td>\n",
              "    </tr>\n",
              "    <tr>\n",
              "      <th>17</th>\n",
              "      <td>1.382403</td>\n",
              "      <td>1.346416</td>\n",
              "      <td>1.035434</td>\n",
              "      <td>1.957751</td>\n",
              "      <td>1.045382</td>\n",
              "      <td>6.767385</td>\n",
              "    </tr>\n",
              "    <tr>\n",
              "      <th>18</th>\n",
              "      <td>1.109998</td>\n",
              "      <td>1.943494</td>\n",
              "      <td>1.624090</td>\n",
              "      <td>1.704951</td>\n",
              "      <td>1.142874</td>\n",
              "      <td>7.525407</td>\n",
              "    </tr>\n",
              "    <tr>\n",
              "      <th>19</th>\n",
              "      <td>1.188325</td>\n",
              "      <td>1.915126</td>\n",
              "      <td>1.548783</td>\n",
              "      <td>1.315489</td>\n",
              "      <td>1.478246</td>\n",
              "      <td>7.445969</td>\n",
              "    </tr>\n",
              "  </tbody>\n",
              "</table>\n",
              "</div>\n",
              "    <div class=\"colab-df-buttons\">\n",
              "\n",
              "  <div class=\"colab-df-container\">\n",
              "    <button class=\"colab-df-convert\" onclick=\"convertToInteractive('df-9eb9a523-0771-4c79-8a88-9e63f3f114dc')\"\n",
              "            title=\"Convert this dataframe to an interactive table.\"\n",
              "            style=\"display:none;\">\n",
              "\n",
              "  <svg xmlns=\"http://www.w3.org/2000/svg\" height=\"24px\" viewBox=\"0 -960 960 960\">\n",
              "    <path d=\"M120-120v-720h720v720H120Zm60-500h600v-160H180v160Zm220 220h160v-160H400v160Zm0 220h160v-160H400v160ZM180-400h160v-160H180v160Zm440 0h160v-160H620v160ZM180-180h160v-160H180v160Zm440 0h160v-160H620v160Z\"/>\n",
              "  </svg>\n",
              "    </button>\n",
              "\n",
              "  <style>\n",
              "    .colab-df-container {\n",
              "      display:flex;\n",
              "      gap: 12px;\n",
              "    }\n",
              "\n",
              "    .colab-df-convert {\n",
              "      background-color: #E8F0FE;\n",
              "      border: none;\n",
              "      border-radius: 50%;\n",
              "      cursor: pointer;\n",
              "      display: none;\n",
              "      fill: #1967D2;\n",
              "      height: 32px;\n",
              "      padding: 0 0 0 0;\n",
              "      width: 32px;\n",
              "    }\n",
              "\n",
              "    .colab-df-convert:hover {\n",
              "      background-color: #E2EBFA;\n",
              "      box-shadow: 0px 1px 2px rgba(60, 64, 67, 0.3), 0px 1px 3px 1px rgba(60, 64, 67, 0.15);\n",
              "      fill: #174EA6;\n",
              "    }\n",
              "\n",
              "    .colab-df-buttons div {\n",
              "      margin-bottom: 4px;\n",
              "    }\n",
              "\n",
              "    [theme=dark] .colab-df-convert {\n",
              "      background-color: #3B4455;\n",
              "      fill: #D2E3FC;\n",
              "    }\n",
              "\n",
              "    [theme=dark] .colab-df-convert:hover {\n",
              "      background-color: #434B5C;\n",
              "      box-shadow: 0px 1px 3px 1px rgba(0, 0, 0, 0.15);\n",
              "      filter: drop-shadow(0px 1px 2px rgba(0, 0, 0, 0.3));\n",
              "      fill: #FFFFFF;\n",
              "    }\n",
              "  </style>\n",
              "\n",
              "    <script>\n",
              "      const buttonEl =\n",
              "        document.querySelector('#df-9eb9a523-0771-4c79-8a88-9e63f3f114dc button.colab-df-convert');\n",
              "      buttonEl.style.display =\n",
              "        google.colab.kernel.accessAllowed ? 'block' : 'none';\n",
              "\n",
              "      async function convertToInteractive(key) {\n",
              "        const element = document.querySelector('#df-9eb9a523-0771-4c79-8a88-9e63f3f114dc');\n",
              "        const dataTable =\n",
              "          await google.colab.kernel.invokeFunction('convertToInteractive',\n",
              "                                                    [key], {});\n",
              "        if (!dataTable) return;\n",
              "\n",
              "        const docLinkHtml = 'Like what you see? Visit the ' +\n",
              "          '<a target=\"_blank\" href=https://colab.research.google.com/notebooks/data_table.ipynb>data table notebook</a>'\n",
              "          + ' to learn more about interactive tables.';\n",
              "        element.innerHTML = '';\n",
              "        dataTable['output_type'] = 'display_data';\n",
              "        await google.colab.output.renderOutput(dataTable, element);\n",
              "        const docLink = document.createElement('div');\n",
              "        docLink.innerHTML = docLinkHtml;\n",
              "        element.appendChild(docLink);\n",
              "      }\n",
              "    </script>\n",
              "  </div>\n",
              "\n",
              "\n",
              "<div id=\"df-a102c1fa-0cd7-4a2c-bced-b3a55146bb5a\">\n",
              "  <button class=\"colab-df-quickchart\" onclick=\"quickchart('df-a102c1fa-0cd7-4a2c-bced-b3a55146bb5a')\"\n",
              "            title=\"Suggest charts\"\n",
              "            style=\"display:none;\">\n",
              "\n",
              "<svg xmlns=\"http://www.w3.org/2000/svg\" height=\"24px\"viewBox=\"0 0 24 24\"\n",
              "     width=\"24px\">\n",
              "    <g>\n",
              "        <path d=\"M19 3H5c-1.1 0-2 .9-2 2v14c0 1.1.9 2 2 2h14c1.1 0 2-.9 2-2V5c0-1.1-.9-2-2-2zM9 17H7v-7h2v7zm4 0h-2V7h2v10zm4 0h-2v-4h2v4z\"/>\n",
              "    </g>\n",
              "</svg>\n",
              "  </button>\n",
              "\n",
              "<style>\n",
              "  .colab-df-quickchart {\n",
              "      --bg-color: #E8F0FE;\n",
              "      --fill-color: #1967D2;\n",
              "      --hover-bg-color: #E2EBFA;\n",
              "      --hover-fill-color: #174EA6;\n",
              "      --disabled-fill-color: #AAA;\n",
              "      --disabled-bg-color: #DDD;\n",
              "  }\n",
              "\n",
              "  [theme=dark] .colab-df-quickchart {\n",
              "      --bg-color: #3B4455;\n",
              "      --fill-color: #D2E3FC;\n",
              "      --hover-bg-color: #434B5C;\n",
              "      --hover-fill-color: #FFFFFF;\n",
              "      --disabled-bg-color: #3B4455;\n",
              "      --disabled-fill-color: #666;\n",
              "  }\n",
              "\n",
              "  .colab-df-quickchart {\n",
              "    background-color: var(--bg-color);\n",
              "    border: none;\n",
              "    border-radius: 50%;\n",
              "    cursor: pointer;\n",
              "    display: none;\n",
              "    fill: var(--fill-color);\n",
              "    height: 32px;\n",
              "    padding: 0;\n",
              "    width: 32px;\n",
              "  }\n",
              "\n",
              "  .colab-df-quickchart:hover {\n",
              "    background-color: var(--hover-bg-color);\n",
              "    box-shadow: 0 1px 2px rgba(60, 64, 67, 0.3), 0 1px 3px 1px rgba(60, 64, 67, 0.15);\n",
              "    fill: var(--button-hover-fill-color);\n",
              "  }\n",
              "\n",
              "  .colab-df-quickchart-complete:disabled,\n",
              "  .colab-df-quickchart-complete:disabled:hover {\n",
              "    background-color: var(--disabled-bg-color);\n",
              "    fill: var(--disabled-fill-color);\n",
              "    box-shadow: none;\n",
              "  }\n",
              "\n",
              "  .colab-df-spinner {\n",
              "    border: 2px solid var(--fill-color);\n",
              "    border-color: transparent;\n",
              "    border-bottom-color: var(--fill-color);\n",
              "    animation:\n",
              "      spin 1s steps(1) infinite;\n",
              "  }\n",
              "\n",
              "  @keyframes spin {\n",
              "    0% {\n",
              "      border-color: transparent;\n",
              "      border-bottom-color: var(--fill-color);\n",
              "      border-left-color: var(--fill-color);\n",
              "    }\n",
              "    20% {\n",
              "      border-color: transparent;\n",
              "      border-left-color: var(--fill-color);\n",
              "      border-top-color: var(--fill-color);\n",
              "    }\n",
              "    30% {\n",
              "      border-color: transparent;\n",
              "      border-left-color: var(--fill-color);\n",
              "      border-top-color: var(--fill-color);\n",
              "      border-right-color: var(--fill-color);\n",
              "    }\n",
              "    40% {\n",
              "      border-color: transparent;\n",
              "      border-right-color: var(--fill-color);\n",
              "      border-top-color: var(--fill-color);\n",
              "    }\n",
              "    60% {\n",
              "      border-color: transparent;\n",
              "      border-right-color: var(--fill-color);\n",
              "    }\n",
              "    80% {\n",
              "      border-color: transparent;\n",
              "      border-right-color: var(--fill-color);\n",
              "      border-bottom-color: var(--fill-color);\n",
              "    }\n",
              "    90% {\n",
              "      border-color: transparent;\n",
              "      border-bottom-color: var(--fill-color);\n",
              "    }\n",
              "  }\n",
              "</style>\n",
              "\n",
              "  <script>\n",
              "    async function quickchart(key) {\n",
              "      const quickchartButtonEl =\n",
              "        document.querySelector('#' + key + ' button');\n",
              "      quickchartButtonEl.disabled = true;  // To prevent multiple clicks.\n",
              "      quickchartButtonEl.classList.add('colab-df-spinner');\n",
              "      try {\n",
              "        const charts = await google.colab.kernel.invokeFunction(\n",
              "            'suggestCharts', [key], {});\n",
              "      } catch (error) {\n",
              "        console.error('Error during call to suggestCharts:', error);\n",
              "      }\n",
              "      quickchartButtonEl.classList.remove('colab-df-spinner');\n",
              "      quickchartButtonEl.classList.add('colab-df-quickchart-complete');\n",
              "    }\n",
              "    (() => {\n",
              "      let quickchartButtonEl =\n",
              "        document.querySelector('#df-a102c1fa-0cd7-4a2c-bced-b3a55146bb5a button');\n",
              "      quickchartButtonEl.style.display =\n",
              "        google.colab.kernel.accessAllowed ? 'block' : 'none';\n",
              "    })();\n",
              "  </script>\n",
              "</div>\n",
              "\n",
              "  <div id=\"id_90395cb2-0c10-48f2-9885-624beaa80814\">\n",
              "    <style>\n",
              "      .colab-df-generate {\n",
              "        background-color: #E8F0FE;\n",
              "        border: none;\n",
              "        border-radius: 50%;\n",
              "        cursor: pointer;\n",
              "        display: none;\n",
              "        fill: #1967D2;\n",
              "        height: 32px;\n",
              "        padding: 0 0 0 0;\n",
              "        width: 32px;\n",
              "      }\n",
              "\n",
              "      .colab-df-generate:hover {\n",
              "        background-color: #E2EBFA;\n",
              "        box-shadow: 0px 1px 2px rgba(60, 64, 67, 0.3), 0px 1px 3px 1px rgba(60, 64, 67, 0.15);\n",
              "        fill: #174EA6;\n",
              "      }\n",
              "\n",
              "      [theme=dark] .colab-df-generate {\n",
              "        background-color: #3B4455;\n",
              "        fill: #D2E3FC;\n",
              "      }\n",
              "\n",
              "      [theme=dark] .colab-df-generate:hover {\n",
              "        background-color: #434B5C;\n",
              "        box-shadow: 0px 1px 3px 1px rgba(0, 0, 0, 0.15);\n",
              "        filter: drop-shadow(0px 1px 2px rgba(0, 0, 0, 0.3));\n",
              "        fill: #FFFFFF;\n",
              "      }\n",
              "    </style>\n",
              "    <button class=\"colab-df-generate\" onclick=\"generateWithVariable('df')\"\n",
              "            title=\"Generate code using this dataframe.\"\n",
              "            style=\"display:none;\">\n",
              "\n",
              "  <svg xmlns=\"http://www.w3.org/2000/svg\" height=\"24px\"viewBox=\"0 0 24 24\"\n",
              "       width=\"24px\">\n",
              "    <path d=\"M7,19H8.4L18.45,9,17,7.55,7,17.6ZM5,21V16.75L18.45,3.32a2,2,0,0,1,2.83,0l1.4,1.43a1.91,1.91,0,0,1,.58,1.4,1.91,1.91,0,0,1-.58,1.4L9.25,21ZM18.45,9,17,7.55Zm-12,3A5.31,5.31,0,0,0,4.9,8.1,5.31,5.31,0,0,0,1,6.5,5.31,5.31,0,0,0,4.9,4.9,5.31,5.31,0,0,0,6.5,1,5.31,5.31,0,0,0,8.1,4.9,5.31,5.31,0,0,0,12,6.5,5.46,5.46,0,0,0,6.5,12Z\"/>\n",
              "  </svg>\n",
              "    </button>\n",
              "    <script>\n",
              "      (() => {\n",
              "      const buttonEl =\n",
              "        document.querySelector('#id_90395cb2-0c10-48f2-9885-624beaa80814 button.colab-df-generate');\n",
              "      buttonEl.style.display =\n",
              "        google.colab.kernel.accessAllowed ? 'block' : 'none';\n",
              "\n",
              "      buttonEl.onclick = () => {\n",
              "        google.colab.notebook.generateWithVariable('df');\n",
              "      }\n",
              "      })();\n",
              "    </script>\n",
              "  </div>\n",
              "\n",
              "    </div>\n",
              "  </div>\n"
            ]
          },
          "metadata": {},
          "execution_count": 109
        }
      ]
    },
    {
      "cell_type": "code",
      "source": [
        "def gt8func(x):\n",
        "  if x < 8:\n",
        "    return \"LT8\"\n",
        "  else:\n",
        "    return \"GT8\"\n",
        "\n",
        "df[\"g\"] = df[\"f\"].apply(lambda x:gt8func(x))\n",
        "df"
      ],
      "metadata": {
        "colab": {
          "base_uri": "https://localhost:8080/",
          "height": 676
        },
        "id": "Orva88pFgu6w",
        "outputId": "c6d11f96-5ca4-4c51-c001-95e5ee24636f"
      },
      "execution_count": 111,
      "outputs": [
        {
          "output_type": "execute_result",
          "data": {
            "text/plain": [
              "           a         b         c         d         e         f    g\n",
              "0   1.949872  1.162234  1.184226  1.770028  1.458134  7.524493  LT8\n",
              "1   1.095337  1.032135  1.767553  1.315070  1.111407  6.321501  LT8\n",
              "2   1.676241  1.275142  1.502758  1.078058  1.139781  6.671980  LT8\n",
              "3   1.747583  1.769770  1.272835  1.888002  1.074354  7.752545  LT8\n",
              "4   1.508085  1.991840  1.476528  1.646264  1.854356  8.477072  GT8\n",
              "5   1.420530  1.687090  1.292259  1.873150  1.576938  7.849967  LT8\n",
              "6   1.980176  1.655683  1.769010  1.450138  1.669622  8.524628  GT8\n",
              "7   1.055911  1.461114  1.053312  1.583417  1.642016  6.795771  LT8\n",
              "8   1.738558  1.222987  1.157231  1.983538  1.461748  7.564062  LT8\n",
              "9   1.839216  1.326150  1.791274  1.202090  1.029321  7.188051  LT8\n",
              "10  1.684262  1.253975  1.296321  1.516267  1.137831  6.888656  LT8\n",
              "11  1.750579  1.903407  1.443113  1.732980  1.931618  8.761697  GT8\n",
              "12  1.452697  1.570496  1.196576  1.740478  1.508399  7.468646  LT8\n",
              "13  1.453611  1.893827  1.666509  1.662341  1.249659  7.925948  LT8\n",
              "14  1.406185  1.877252  1.030792  1.983712  1.833410  8.131351  GT8\n",
              "15  1.078625  1.741188  1.468275  1.969303  1.887314  8.144705  GT8\n",
              "16  1.447898  1.755574  1.378004  1.272196  1.541778  7.395450  LT8\n",
              "17  1.382403  1.346416  1.035434  1.957751  1.045382  6.767385  LT8\n",
              "18  1.109998  1.943494  1.624090  1.704951  1.142874  7.525407  LT8\n",
              "19  1.188325  1.915126  1.548783  1.315489  1.478246  7.445969  LT8"
            ],
            "text/html": [
              "\n",
              "  <div id=\"df-62352cd4-eff4-41b1-a67e-8460382bad73\" class=\"colab-df-container\">\n",
              "    <div>\n",
              "<style scoped>\n",
              "    .dataframe tbody tr th:only-of-type {\n",
              "        vertical-align: middle;\n",
              "    }\n",
              "\n",
              "    .dataframe tbody tr th {\n",
              "        vertical-align: top;\n",
              "    }\n",
              "\n",
              "    .dataframe thead th {\n",
              "        text-align: right;\n",
              "    }\n",
              "</style>\n",
              "<table border=\"1\" class=\"dataframe\">\n",
              "  <thead>\n",
              "    <tr style=\"text-align: right;\">\n",
              "      <th></th>\n",
              "      <th>a</th>\n",
              "      <th>b</th>\n",
              "      <th>c</th>\n",
              "      <th>d</th>\n",
              "      <th>e</th>\n",
              "      <th>f</th>\n",
              "      <th>g</th>\n",
              "    </tr>\n",
              "  </thead>\n",
              "  <tbody>\n",
              "    <tr>\n",
              "      <th>0</th>\n",
              "      <td>1.949872</td>\n",
              "      <td>1.162234</td>\n",
              "      <td>1.184226</td>\n",
              "      <td>1.770028</td>\n",
              "      <td>1.458134</td>\n",
              "      <td>7.524493</td>\n",
              "      <td>LT8</td>\n",
              "    </tr>\n",
              "    <tr>\n",
              "      <th>1</th>\n",
              "      <td>1.095337</td>\n",
              "      <td>1.032135</td>\n",
              "      <td>1.767553</td>\n",
              "      <td>1.315070</td>\n",
              "      <td>1.111407</td>\n",
              "      <td>6.321501</td>\n",
              "      <td>LT8</td>\n",
              "    </tr>\n",
              "    <tr>\n",
              "      <th>2</th>\n",
              "      <td>1.676241</td>\n",
              "      <td>1.275142</td>\n",
              "      <td>1.502758</td>\n",
              "      <td>1.078058</td>\n",
              "      <td>1.139781</td>\n",
              "      <td>6.671980</td>\n",
              "      <td>LT8</td>\n",
              "    </tr>\n",
              "    <tr>\n",
              "      <th>3</th>\n",
              "      <td>1.747583</td>\n",
              "      <td>1.769770</td>\n",
              "      <td>1.272835</td>\n",
              "      <td>1.888002</td>\n",
              "      <td>1.074354</td>\n",
              "      <td>7.752545</td>\n",
              "      <td>LT8</td>\n",
              "    </tr>\n",
              "    <tr>\n",
              "      <th>4</th>\n",
              "      <td>1.508085</td>\n",
              "      <td>1.991840</td>\n",
              "      <td>1.476528</td>\n",
              "      <td>1.646264</td>\n",
              "      <td>1.854356</td>\n",
              "      <td>8.477072</td>\n",
              "      <td>GT8</td>\n",
              "    </tr>\n",
              "    <tr>\n",
              "      <th>5</th>\n",
              "      <td>1.420530</td>\n",
              "      <td>1.687090</td>\n",
              "      <td>1.292259</td>\n",
              "      <td>1.873150</td>\n",
              "      <td>1.576938</td>\n",
              "      <td>7.849967</td>\n",
              "      <td>LT8</td>\n",
              "    </tr>\n",
              "    <tr>\n",
              "      <th>6</th>\n",
              "      <td>1.980176</td>\n",
              "      <td>1.655683</td>\n",
              "      <td>1.769010</td>\n",
              "      <td>1.450138</td>\n",
              "      <td>1.669622</td>\n",
              "      <td>8.524628</td>\n",
              "      <td>GT8</td>\n",
              "    </tr>\n",
              "    <tr>\n",
              "      <th>7</th>\n",
              "      <td>1.055911</td>\n",
              "      <td>1.461114</td>\n",
              "      <td>1.053312</td>\n",
              "      <td>1.583417</td>\n",
              "      <td>1.642016</td>\n",
              "      <td>6.795771</td>\n",
              "      <td>LT8</td>\n",
              "    </tr>\n",
              "    <tr>\n",
              "      <th>8</th>\n",
              "      <td>1.738558</td>\n",
              "      <td>1.222987</td>\n",
              "      <td>1.157231</td>\n",
              "      <td>1.983538</td>\n",
              "      <td>1.461748</td>\n",
              "      <td>7.564062</td>\n",
              "      <td>LT8</td>\n",
              "    </tr>\n",
              "    <tr>\n",
              "      <th>9</th>\n",
              "      <td>1.839216</td>\n",
              "      <td>1.326150</td>\n",
              "      <td>1.791274</td>\n",
              "      <td>1.202090</td>\n",
              "      <td>1.029321</td>\n",
              "      <td>7.188051</td>\n",
              "      <td>LT8</td>\n",
              "    </tr>\n",
              "    <tr>\n",
              "      <th>10</th>\n",
              "      <td>1.684262</td>\n",
              "      <td>1.253975</td>\n",
              "      <td>1.296321</td>\n",
              "      <td>1.516267</td>\n",
              "      <td>1.137831</td>\n",
              "      <td>6.888656</td>\n",
              "      <td>LT8</td>\n",
              "    </tr>\n",
              "    <tr>\n",
              "      <th>11</th>\n",
              "      <td>1.750579</td>\n",
              "      <td>1.903407</td>\n",
              "      <td>1.443113</td>\n",
              "      <td>1.732980</td>\n",
              "      <td>1.931618</td>\n",
              "      <td>8.761697</td>\n",
              "      <td>GT8</td>\n",
              "    </tr>\n",
              "    <tr>\n",
              "      <th>12</th>\n",
              "      <td>1.452697</td>\n",
              "      <td>1.570496</td>\n",
              "      <td>1.196576</td>\n",
              "      <td>1.740478</td>\n",
              "      <td>1.508399</td>\n",
              "      <td>7.468646</td>\n",
              "      <td>LT8</td>\n",
              "    </tr>\n",
              "    <tr>\n",
              "      <th>13</th>\n",
              "      <td>1.453611</td>\n",
              "      <td>1.893827</td>\n",
              "      <td>1.666509</td>\n",
              "      <td>1.662341</td>\n",
              "      <td>1.249659</td>\n",
              "      <td>7.925948</td>\n",
              "      <td>LT8</td>\n",
              "    </tr>\n",
              "    <tr>\n",
              "      <th>14</th>\n",
              "      <td>1.406185</td>\n",
              "      <td>1.877252</td>\n",
              "      <td>1.030792</td>\n",
              "      <td>1.983712</td>\n",
              "      <td>1.833410</td>\n",
              "      <td>8.131351</td>\n",
              "      <td>GT8</td>\n",
              "    </tr>\n",
              "    <tr>\n",
              "      <th>15</th>\n",
              "      <td>1.078625</td>\n",
              "      <td>1.741188</td>\n",
              "      <td>1.468275</td>\n",
              "      <td>1.969303</td>\n",
              "      <td>1.887314</td>\n",
              "      <td>8.144705</td>\n",
              "      <td>GT8</td>\n",
              "    </tr>\n",
              "    <tr>\n",
              "      <th>16</th>\n",
              "      <td>1.447898</td>\n",
              "      <td>1.755574</td>\n",
              "      <td>1.378004</td>\n",
              "      <td>1.272196</td>\n",
              "      <td>1.541778</td>\n",
              "      <td>7.395450</td>\n",
              "      <td>LT8</td>\n",
              "    </tr>\n",
              "    <tr>\n",
              "      <th>17</th>\n",
              "      <td>1.382403</td>\n",
              "      <td>1.346416</td>\n",
              "      <td>1.035434</td>\n",
              "      <td>1.957751</td>\n",
              "      <td>1.045382</td>\n",
              "      <td>6.767385</td>\n",
              "      <td>LT8</td>\n",
              "    </tr>\n",
              "    <tr>\n",
              "      <th>18</th>\n",
              "      <td>1.109998</td>\n",
              "      <td>1.943494</td>\n",
              "      <td>1.624090</td>\n",
              "      <td>1.704951</td>\n",
              "      <td>1.142874</td>\n",
              "      <td>7.525407</td>\n",
              "      <td>LT8</td>\n",
              "    </tr>\n",
              "    <tr>\n",
              "      <th>19</th>\n",
              "      <td>1.188325</td>\n",
              "      <td>1.915126</td>\n",
              "      <td>1.548783</td>\n",
              "      <td>1.315489</td>\n",
              "      <td>1.478246</td>\n",
              "      <td>7.445969</td>\n",
              "      <td>LT8</td>\n",
              "    </tr>\n",
              "  </tbody>\n",
              "</table>\n",
              "</div>\n",
              "    <div class=\"colab-df-buttons\">\n",
              "\n",
              "  <div class=\"colab-df-container\">\n",
              "    <button class=\"colab-df-convert\" onclick=\"convertToInteractive('df-62352cd4-eff4-41b1-a67e-8460382bad73')\"\n",
              "            title=\"Convert this dataframe to an interactive table.\"\n",
              "            style=\"display:none;\">\n",
              "\n",
              "  <svg xmlns=\"http://www.w3.org/2000/svg\" height=\"24px\" viewBox=\"0 -960 960 960\">\n",
              "    <path d=\"M120-120v-720h720v720H120Zm60-500h600v-160H180v160Zm220 220h160v-160H400v160Zm0 220h160v-160H400v160ZM180-400h160v-160H180v160Zm440 0h160v-160H620v160ZM180-180h160v-160H180v160Zm440 0h160v-160H620v160Z\"/>\n",
              "  </svg>\n",
              "    </button>\n",
              "\n",
              "  <style>\n",
              "    .colab-df-container {\n",
              "      display:flex;\n",
              "      gap: 12px;\n",
              "    }\n",
              "\n",
              "    .colab-df-convert {\n",
              "      background-color: #E8F0FE;\n",
              "      border: none;\n",
              "      border-radius: 50%;\n",
              "      cursor: pointer;\n",
              "      display: none;\n",
              "      fill: #1967D2;\n",
              "      height: 32px;\n",
              "      padding: 0 0 0 0;\n",
              "      width: 32px;\n",
              "    }\n",
              "\n",
              "    .colab-df-convert:hover {\n",
              "      background-color: #E2EBFA;\n",
              "      box-shadow: 0px 1px 2px rgba(60, 64, 67, 0.3), 0px 1px 3px 1px rgba(60, 64, 67, 0.15);\n",
              "      fill: #174EA6;\n",
              "    }\n",
              "\n",
              "    .colab-df-buttons div {\n",
              "      margin-bottom: 4px;\n",
              "    }\n",
              "\n",
              "    [theme=dark] .colab-df-convert {\n",
              "      background-color: #3B4455;\n",
              "      fill: #D2E3FC;\n",
              "    }\n",
              "\n",
              "    [theme=dark] .colab-df-convert:hover {\n",
              "      background-color: #434B5C;\n",
              "      box-shadow: 0px 1px 3px 1px rgba(0, 0, 0, 0.15);\n",
              "      filter: drop-shadow(0px 1px 2px rgba(0, 0, 0, 0.3));\n",
              "      fill: #FFFFFF;\n",
              "    }\n",
              "  </style>\n",
              "\n",
              "    <script>\n",
              "      const buttonEl =\n",
              "        document.querySelector('#df-62352cd4-eff4-41b1-a67e-8460382bad73 button.colab-df-convert');\n",
              "      buttonEl.style.display =\n",
              "        google.colab.kernel.accessAllowed ? 'block' : 'none';\n",
              "\n",
              "      async function convertToInteractive(key) {\n",
              "        const element = document.querySelector('#df-62352cd4-eff4-41b1-a67e-8460382bad73');\n",
              "        const dataTable =\n",
              "          await google.colab.kernel.invokeFunction('convertToInteractive',\n",
              "                                                    [key], {});\n",
              "        if (!dataTable) return;\n",
              "\n",
              "        const docLinkHtml = 'Like what you see? Visit the ' +\n",
              "          '<a target=\"_blank\" href=https://colab.research.google.com/notebooks/data_table.ipynb>data table notebook</a>'\n",
              "          + ' to learn more about interactive tables.';\n",
              "        element.innerHTML = '';\n",
              "        dataTable['output_type'] = 'display_data';\n",
              "        await google.colab.output.renderOutput(dataTable, element);\n",
              "        const docLink = document.createElement('div');\n",
              "        docLink.innerHTML = docLinkHtml;\n",
              "        element.appendChild(docLink);\n",
              "      }\n",
              "    </script>\n",
              "  </div>\n",
              "\n",
              "\n",
              "<div id=\"df-0e1065d6-a523-45c9-8c6e-d773e7d673c7\">\n",
              "  <button class=\"colab-df-quickchart\" onclick=\"quickchart('df-0e1065d6-a523-45c9-8c6e-d773e7d673c7')\"\n",
              "            title=\"Suggest charts\"\n",
              "            style=\"display:none;\">\n",
              "\n",
              "<svg xmlns=\"http://www.w3.org/2000/svg\" height=\"24px\"viewBox=\"0 0 24 24\"\n",
              "     width=\"24px\">\n",
              "    <g>\n",
              "        <path d=\"M19 3H5c-1.1 0-2 .9-2 2v14c0 1.1.9 2 2 2h14c1.1 0 2-.9 2-2V5c0-1.1-.9-2-2-2zM9 17H7v-7h2v7zm4 0h-2V7h2v10zm4 0h-2v-4h2v4z\"/>\n",
              "    </g>\n",
              "</svg>\n",
              "  </button>\n",
              "\n",
              "<style>\n",
              "  .colab-df-quickchart {\n",
              "      --bg-color: #E8F0FE;\n",
              "      --fill-color: #1967D2;\n",
              "      --hover-bg-color: #E2EBFA;\n",
              "      --hover-fill-color: #174EA6;\n",
              "      --disabled-fill-color: #AAA;\n",
              "      --disabled-bg-color: #DDD;\n",
              "  }\n",
              "\n",
              "  [theme=dark] .colab-df-quickchart {\n",
              "      --bg-color: #3B4455;\n",
              "      --fill-color: #D2E3FC;\n",
              "      --hover-bg-color: #434B5C;\n",
              "      --hover-fill-color: #FFFFFF;\n",
              "      --disabled-bg-color: #3B4455;\n",
              "      --disabled-fill-color: #666;\n",
              "  }\n",
              "\n",
              "  .colab-df-quickchart {\n",
              "    background-color: var(--bg-color);\n",
              "    border: none;\n",
              "    border-radius: 50%;\n",
              "    cursor: pointer;\n",
              "    display: none;\n",
              "    fill: var(--fill-color);\n",
              "    height: 32px;\n",
              "    padding: 0;\n",
              "    width: 32px;\n",
              "  }\n",
              "\n",
              "  .colab-df-quickchart:hover {\n",
              "    background-color: var(--hover-bg-color);\n",
              "    box-shadow: 0 1px 2px rgba(60, 64, 67, 0.3), 0 1px 3px 1px rgba(60, 64, 67, 0.15);\n",
              "    fill: var(--button-hover-fill-color);\n",
              "  }\n",
              "\n",
              "  .colab-df-quickchart-complete:disabled,\n",
              "  .colab-df-quickchart-complete:disabled:hover {\n",
              "    background-color: var(--disabled-bg-color);\n",
              "    fill: var(--disabled-fill-color);\n",
              "    box-shadow: none;\n",
              "  }\n",
              "\n",
              "  .colab-df-spinner {\n",
              "    border: 2px solid var(--fill-color);\n",
              "    border-color: transparent;\n",
              "    border-bottom-color: var(--fill-color);\n",
              "    animation:\n",
              "      spin 1s steps(1) infinite;\n",
              "  }\n",
              "\n",
              "  @keyframes spin {\n",
              "    0% {\n",
              "      border-color: transparent;\n",
              "      border-bottom-color: var(--fill-color);\n",
              "      border-left-color: var(--fill-color);\n",
              "    }\n",
              "    20% {\n",
              "      border-color: transparent;\n",
              "      border-left-color: var(--fill-color);\n",
              "      border-top-color: var(--fill-color);\n",
              "    }\n",
              "    30% {\n",
              "      border-color: transparent;\n",
              "      border-left-color: var(--fill-color);\n",
              "      border-top-color: var(--fill-color);\n",
              "      border-right-color: var(--fill-color);\n",
              "    }\n",
              "    40% {\n",
              "      border-color: transparent;\n",
              "      border-right-color: var(--fill-color);\n",
              "      border-top-color: var(--fill-color);\n",
              "    }\n",
              "    60% {\n",
              "      border-color: transparent;\n",
              "      border-right-color: var(--fill-color);\n",
              "    }\n",
              "    80% {\n",
              "      border-color: transparent;\n",
              "      border-right-color: var(--fill-color);\n",
              "      border-bottom-color: var(--fill-color);\n",
              "    }\n",
              "    90% {\n",
              "      border-color: transparent;\n",
              "      border-bottom-color: var(--fill-color);\n",
              "    }\n",
              "  }\n",
              "</style>\n",
              "\n",
              "  <script>\n",
              "    async function quickchart(key) {\n",
              "      const quickchartButtonEl =\n",
              "        document.querySelector('#' + key + ' button');\n",
              "      quickchartButtonEl.disabled = true;  // To prevent multiple clicks.\n",
              "      quickchartButtonEl.classList.add('colab-df-spinner');\n",
              "      try {\n",
              "        const charts = await google.colab.kernel.invokeFunction(\n",
              "            'suggestCharts', [key], {});\n",
              "      } catch (error) {\n",
              "        console.error('Error during call to suggestCharts:', error);\n",
              "      }\n",
              "      quickchartButtonEl.classList.remove('colab-df-spinner');\n",
              "      quickchartButtonEl.classList.add('colab-df-quickchart-complete');\n",
              "    }\n",
              "    (() => {\n",
              "      let quickchartButtonEl =\n",
              "        document.querySelector('#df-0e1065d6-a523-45c9-8c6e-d773e7d673c7 button');\n",
              "      quickchartButtonEl.style.display =\n",
              "        google.colab.kernel.accessAllowed ? 'block' : 'none';\n",
              "    })();\n",
              "  </script>\n",
              "</div>\n",
              "\n",
              "  <div id=\"id_6047bf63-63d5-4095-85c3-939b895c7bd6\">\n",
              "    <style>\n",
              "      .colab-df-generate {\n",
              "        background-color: #E8F0FE;\n",
              "        border: none;\n",
              "        border-radius: 50%;\n",
              "        cursor: pointer;\n",
              "        display: none;\n",
              "        fill: #1967D2;\n",
              "        height: 32px;\n",
              "        padding: 0 0 0 0;\n",
              "        width: 32px;\n",
              "      }\n",
              "\n",
              "      .colab-df-generate:hover {\n",
              "        background-color: #E2EBFA;\n",
              "        box-shadow: 0px 1px 2px rgba(60, 64, 67, 0.3), 0px 1px 3px 1px rgba(60, 64, 67, 0.15);\n",
              "        fill: #174EA6;\n",
              "      }\n",
              "\n",
              "      [theme=dark] .colab-df-generate {\n",
              "        background-color: #3B4455;\n",
              "        fill: #D2E3FC;\n",
              "      }\n",
              "\n",
              "      [theme=dark] .colab-df-generate:hover {\n",
              "        background-color: #434B5C;\n",
              "        box-shadow: 0px 1px 3px 1px rgba(0, 0, 0, 0.15);\n",
              "        filter: drop-shadow(0px 1px 2px rgba(0, 0, 0, 0.3));\n",
              "        fill: #FFFFFF;\n",
              "      }\n",
              "    </style>\n",
              "    <button class=\"colab-df-generate\" onclick=\"generateWithVariable('df')\"\n",
              "            title=\"Generate code using this dataframe.\"\n",
              "            style=\"display:none;\">\n",
              "\n",
              "  <svg xmlns=\"http://www.w3.org/2000/svg\" height=\"24px\"viewBox=\"0 0 24 24\"\n",
              "       width=\"24px\">\n",
              "    <path d=\"M7,19H8.4L18.45,9,17,7.55,7,17.6ZM5,21V16.75L18.45,3.32a2,2,0,0,1,2.83,0l1.4,1.43a1.91,1.91,0,0,1,.58,1.4,1.91,1.91,0,0,1-.58,1.4L9.25,21ZM18.45,9,17,7.55Zm-12,3A5.31,5.31,0,0,0,4.9,8.1,5.31,5.31,0,0,0,1,6.5,5.31,5.31,0,0,0,4.9,4.9,5.31,5.31,0,0,0,6.5,1,5.31,5.31,0,0,0,8.1,4.9,5.31,5.31,0,0,0,12,6.5,5.46,5.46,0,0,0,6.5,12Z\"/>\n",
              "  </svg>\n",
              "    </button>\n",
              "    <script>\n",
              "      (() => {\n",
              "      const buttonEl =\n",
              "        document.querySelector('#id_6047bf63-63d5-4095-85c3-939b895c7bd6 button.colab-df-generate');\n",
              "      buttonEl.style.display =\n",
              "        google.colab.kernel.accessAllowed ? 'block' : 'none';\n",
              "\n",
              "      buttonEl.onclick = () => {\n",
              "        google.colab.notebook.generateWithVariable('df');\n",
              "      }\n",
              "      })();\n",
              "    </script>\n",
              "  </div>\n",
              "\n",
              "    </div>\n",
              "  </div>\n"
            ]
          },
          "metadata": {},
          "execution_count": 111
        }
      ]
    },
    {
      "cell_type": "code",
      "source": [
        "num_rows_lt8 = df[\"g\"].value_counts()[\"LT8\"]\n",
        "num_rows_lt8"
      ],
      "metadata": {
        "colab": {
          "base_uri": "https://localhost:8080/"
        },
        "id": "nP5hiyCghF2t",
        "outputId": "2bc1c021-b106-44f4-f1ed-2deda21d5ebb"
      },
      "execution_count": 112,
      "outputs": [
        {
          "output_type": "execute_result",
          "data": {
            "text/plain": [
              "15"
            ]
          },
          "metadata": {},
          "execution_count": 112
        }
      ]
    },
    {
      "cell_type": "code",
      "source": [
        "lt8lis = []\n",
        "gt8lis = []\n",
        "for i in range(len(df[\"g\"])):\n",
        "  if df[\"g\"][i] == \"LT8\":\n",
        "    lt8lis.append(df[\"f\"][i])\n",
        "  else:\n",
        "    gt8lis.append(df[\"f\"][i])\n",
        "\n",
        "print(\"The LT8 Std Dev is\", np.std(lt8lis))\n",
        "print(\"The GT8 Std Dev is\", np.std(gt8lis))"
      ],
      "metadata": {
        "colab": {
          "base_uri": "https://localhost:8080/"
        },
        "id": "myOecF6M4je_",
        "outputId": "2f9f9b85-3c38-46c2-a1aa-fa0bcc0d701e"
      },
      "execution_count": 120,
      "outputs": [
        {
          "output_type": "stream",
          "name": "stdout",
          "text": [
            "The LT8 Std Dev is 0.46108284532453064\n",
            "The GT8 Std Dev is 0.24055506671231958\n"
          ]
        }
      ]
    },
    {
      "cell_type": "markdown",
      "source": [
        "##Q12.Write a small piece of code to explain broadcasting in numpy."
      ],
      "metadata": {
        "id": "gM3cfcK5o20M"
      }
    },
    {
      "cell_type": "markdown",
      "source": [
        "The term broadcasting describes how NumPy treats arrays with different shapes during arithmetic operations. Subject to certain constraints, the smaller array is “broadcast” across the larger array so that they have compatible shapes.\n",
        "\n",
        "Reference: https://numpy.org/doc/stable/user/basics.broadcasting.html\n",
        "\n",
        "In simple words, during broadcasting, we can process arrays using different arithmetic operations and the shape of the arrays are broadcasted to match each other. The example is as given below:"
      ],
      "metadata": {
        "id": "nXk8OIYirpXU"
      }
    },
    {
      "cell_type": "code",
      "source": [
        "import numpy as np\n",
        "a = np.array([2])\n",
        "b = np.array([1,2,3,4])\n",
        "print(a*b)"
      ],
      "metadata": {
        "id": "hXeaqzbWo6Vb",
        "colab": {
          "base_uri": "https://localhost:8080/"
        },
        "outputId": "4cee0689-1051-4b52-ff77-115d56e003c8"
      },
      "execution_count": 80,
      "outputs": [
        {
          "output_type": "stream",
          "name": "stdout",
          "text": [
            "[2 4 6 8]\n"
          ]
        }
      ]
    },
    {
      "cell_type": "code",
      "source": [
        "import numpy as np\n",
        "a = np.array([1,2])\n",
        "b = np.array([1,2,3])\n",
        "print(a*b)"
      ],
      "metadata": {
        "colab": {
          "base_uri": "https://localhost:8080/",
          "height": 210
        },
        "id": "jHgntqnHsvFh",
        "outputId": "a47d6648-16e0-4318-a218-aa5296baffb8"
      },
      "execution_count": 81,
      "outputs": [
        {
          "output_type": "error",
          "ename": "ValueError",
          "evalue": "operands could not be broadcast together with shapes (2,) (3,) ",
          "traceback": [
            "\u001b[0;31m---------------------------------------------------------------------------\u001b[0m",
            "\u001b[0;31mValueError\u001b[0m                                Traceback (most recent call last)",
            "\u001b[0;32m<ipython-input-81-758bdeb59b29>\u001b[0m in \u001b[0;36m<cell line: 4>\u001b[0;34m()\u001b[0m\n\u001b[1;32m      2\u001b[0m \u001b[0ma\u001b[0m \u001b[0;34m=\u001b[0m \u001b[0mnp\u001b[0m\u001b[0;34m.\u001b[0m\u001b[0marray\u001b[0m\u001b[0;34m(\u001b[0m\u001b[0;34m[\u001b[0m\u001b[0;36m1\u001b[0m\u001b[0;34m,\u001b[0m\u001b[0;36m2\u001b[0m\u001b[0;34m]\u001b[0m\u001b[0;34m)\u001b[0m\u001b[0;34m\u001b[0m\u001b[0;34m\u001b[0m\u001b[0m\n\u001b[1;32m      3\u001b[0m \u001b[0mb\u001b[0m \u001b[0;34m=\u001b[0m \u001b[0mnp\u001b[0m\u001b[0;34m.\u001b[0m\u001b[0marray\u001b[0m\u001b[0;34m(\u001b[0m\u001b[0;34m[\u001b[0m\u001b[0;36m1\u001b[0m\u001b[0;34m,\u001b[0m\u001b[0;36m2\u001b[0m\u001b[0;34m,\u001b[0m\u001b[0;36m3\u001b[0m\u001b[0;34m]\u001b[0m\u001b[0;34m)\u001b[0m\u001b[0;34m\u001b[0m\u001b[0;34m\u001b[0m\u001b[0m\n\u001b[0;32m----> 4\u001b[0;31m \u001b[0mprint\u001b[0m\u001b[0;34m(\u001b[0m\u001b[0ma\u001b[0m\u001b[0;34m*\u001b[0m\u001b[0mb\u001b[0m\u001b[0;34m)\u001b[0m\u001b[0;34m\u001b[0m\u001b[0;34m\u001b[0m\u001b[0m\n\u001b[0m",
            "\u001b[0;31mValueError\u001b[0m: operands could not be broadcast together with shapes (2,) (3,) "
          ]
        }
      ]
    },
    {
      "cell_type": "markdown",
      "source": [
        "Here, the array a is broadcasted (effectively streched) to array b which has a greater size and broadcasted. However, we may also have some cases when such broadcasting may not be possible, when the sizes are incompatible."
      ],
      "metadata": {
        "id": "c8XzwnWksOXQ"
      }
    },
    {
      "cell_type": "markdown",
      "source": [
        "##Q13.Write a function to compute the argmin of a numpy array. The function should take a numpy array as input and return the index of the minimum element. You can use the np.argmin function to verify your solution."
      ],
      "metadata": {
        "id": "B3CpyjAgpcPs"
      }
    },
    {
      "cell_type": "code",
      "source": [
        "import numpy as np\n",
        "\n",
        "def argmin_wo_np(arr):\n",
        "  min = arr[0]\n",
        "  m = 0\n",
        "  for i in range(len(arr)):\n",
        "    if arr[i]<min:\n",
        "      min = arr[i]\n",
        "      m = i\n",
        "  return m\n",
        "\n",
        "\n",
        "arr = np.array([5, 2, 8, 7, 1, 19, 12, 6])\n",
        "argmin_index = argmin_wo_np(arr)\n",
        "print(\"My Answer:\", argmin_index)\n",
        "\n",
        "np_argmin_index = np.argmin(arr)\n",
        "\n",
        "print(\"Numpy's Answer:\", np_argmin_index)\n"
      ],
      "metadata": {
        "id": "eQRwf7TDpcub",
        "colab": {
          "base_uri": "https://localhost:8080/"
        },
        "outputId": "52156d13-22c4-4b46-c68c-994a765cf17c"
      },
      "execution_count": 123,
      "outputs": [
        {
          "output_type": "stream",
          "name": "stdout",
          "text": [
            "My Answer: 4\n",
            "Numpy's Answer: 4\n"
          ]
        }
      ]
    }
  ]
}